{
 "cells": [
  {
   "cell_type": "markdown",
   "metadata": {},
   "source": [
    "## Introduction"
   ]
  },
  {
   "cell_type": "markdown",
   "metadata": {},
   "source": [
    "> The goal of [**statistical inference**](https://www.encyclopediaofmath.org/index.php/Statistical_inference) is to make **generalizations about the population** when **only a sample is available**."
   ]
  },
  {
   "cell_type": "markdown",
   "metadata": {},
   "source": [
    "## Sampling"
   ]
  },
  {
   "cell_type": "markdown",
   "metadata": {},
   "source": [
    "We want to study the **probability distribution** of a population variable: how likely its possible values are to happen. The data we collect must be **randomly generated** from this probability distribution in order to make inference about **the whole population**. "
   ]
  },
  {
   "cell_type": "markdown",
   "metadata": {},
   "source": [
    "### Methods"
   ]
  },
  {
   "cell_type": "markdown",
   "metadata": {},
   "source": [
    "There are several ways to sample a population:\n",
    "\n",
    "+ [**Simple random sample**](https://en.wikipedia.org/wiki/Simple_random_sample) – each subject in the population has an equal chance of being selected. Some demographics might be missed.\n",
    "+ [**Stratified random sample**](https://en.wikipedia.org/wiki/Stratified_sampling) – the population is divided into groups based on some characteristic (e.g. sex, geographic region). Then simple random sampling is done for each group based on its size in the actual population.\n",
    "+ [**Cluster sample**](https://en.wikipedia.org/wiki/Cluster_sampling) – a random cluster of subjects is selected from the population (e.g. certain neighborhoods instead of the entire city)."
   ]
  },
  {
   "cell_type": "markdown",
   "metadata": {},
   "source": [
    "### Bias"
   ]
  },
  {
   "cell_type": "markdown",
   "metadata": {},
   "source": [
    "There are several forms of [**sampling bias**](https://en.wikipedia.org/wiki/Sampling_bias) that can lead to incorrect inference:\n",
    "+ selection bias: not fully representative of the entire population.\n",
    "    + people who answer surveys.\n",
    "    + people from specific segments of the population (polling about health at fruit stand).\n",
    "+ survivorship bias: population improving over time by having lesser members leave due to death.\n",
    "    + head injuries with metal helmets increasing vs cloth caps because less lethal.\n",
    "    + damage in WWII planes: not uniformally distributed in planes that came back, but only in non-critical areas.\n",
    "    \n",
    "_Note: other [**criteria**](https://en.wikipedia.org/wiki/Selection_bias) can also impact the representativity of our sample._"
   ]
  },
  {
   "cell_type": "markdown",
   "metadata": {},
   "source": [
    "### Representativity"
   ]
  },
  {
   "cell_type": "markdown",
   "metadata": {},
   "source": [
    "Due to the random nature of sampling, some samples are **not representative** of the population and will produce incorrect inference. This uncertainty is reflected in the **confidence level** of statistical conclusions:\n",
    "+ a small proportion of samples, typically noted $\\alpha$, will produce incorrect inferences.\n",
    "+ for 1 - $\\alpha$ percents of all samples, the conclusions will be correct.\n",
    "+ the confidence level is therefore expressed as 1 - $\\alpha$.\n",
    "\n",
    "_Note: 0.01 and 0.05 are the most common values of $\\alpha$. This translates to 99% and 95% confidence intervals._"
   ]
  },
  {
   "cell_type": "markdown",
   "metadata": {},
   "source": [
    "___\n",
    "\n",
    "## Probability Distribution"
   ]
  },
  {
   "cell_type": "markdown",
   "metadata": {},
   "source": [
    "### Point Estimate"
   ]
  },
  {
   "cell_type": "markdown",
   "metadata": {},
   "source": [
    "It is often interesting to summarize the **probability distribution** with a single numerical feature of interest: the population **parameter**. We draw our conclusions about the parameter from the sample **statistic**. \n",
    "\n",
    "A few important limitations:\n",
    "+ a sample is only part of the population; the numerical value of its statistic will not be the exact value of the parameter.\n",
    "+ the observed value of the statistic depends on the selected sample.\n",
    "+ some variability in the values of a statistic, over different samples, is unavoidable."
   ]
  },
  {
   "cell_type": "markdown",
   "metadata": {},
   "source": [
    "The [**Maximum Likelihood Estimator**](https://en.wikipedia.org/wiki/Maximum_likelihood_estimation) is the value of the parameter space (i.e. the set of all values the parameter can take) that is the **most likely** to have **generated our sample**. As the sample size increases, the MLE converges towards the true value of the population parameter.\n",
    "\n",
    "+ for discrete distributions, the MLE of the probability of success is equal to successes / total trials.\n",
    "+ for continuous distributions:\n",
    "    + the MLE of the population mean is the sample mean. \n",
    "    + the MLE of the population variance is the sample variance.\n",
    "    \n",
    "    \n",
    "_Note1: the sample variance needs to be [slightly adjusted](https://en.wikipedia.org/wiki/Bessel%27s_correction) to become [unbiased](https://dawenl.github.io/files/mle_biased.pdf)._\n",
    "\n",
    "_Note2: in more complex problems, the MLE can only be found via numerical optimization._"
   ]
  },
  {
   "cell_type": "markdown",
   "metadata": {},
   "source": [
    "___\n",
    "\n",
    "## Hypothesis Testing"
   ]
  },
  {
   "cell_type": "markdown",
   "metadata": {},
   "source": [
    "### Experimental Design"
   ]
  },
  {
   "cell_type": "markdown",
   "metadata": {},
   "source": [
    "Hypothesis testing is used to **make decisions about a population** using sample data. \n",
    "\n",
    "+ We start with a **null hypothesis $H_0$** that we we asssume to be true:\n",
    "    + the sample parameter is equal to a given value.\n",
    "    + samples with different characteristics are drawn from the same population.\n",
    "+ We run an **experiment** to test this hypothesis:\n",
    "    + **collect data** from a sample of predetermined size _(see [Statistical Power](#Statistical-Power) below)_.\n",
    "    + perform the appropriate **statistical test**.\n",
    "+ Based on the experimental results, we can either **reject** or **fail to reject** this null hypothesis. \n",
    "+ If we reject it, we say that the data supports another, mutually exclusive, **alternate hypothesis**.\n"
   ]
  },
  {
   "cell_type": "markdown",
   "metadata": {},
   "source": [
    "### P-Value"
   ]
  },
  {
   "cell_type": "markdown",
   "metadata": {},
   "source": [
    "We **reject the null hypothesis** if the probability of observing the experimental results, called the **p-value**, is **very small** under its assumption. The cutoff probability is called the **level of significance $\\alpha$** and is typically 5%. \n",
    "\n",
    "More specifically, we measure the probability that our sample(s) produce such a test statistic or one more extreme under the $H_0$ probability distribution. A low p-value means that $H_0$ is unlikely to actually describe the population: we reject the null hypothesis.\n",
    "\n",
    "+ $P\\leq\\alpha$: we **reject** the null hypothesis. The observed effect is **statistically significant**.\n",
    "+ $P\\gt\\alpha$: we **fail to reject** the null hypothesis. The observed effect is **not statistically significant**.\n"
   ]
  },
  {
   "cell_type": "markdown",
   "metadata": {},
   "source": [
    "### Types of Errors"
   ]
  },
  {
   "cell_type": "markdown",
   "metadata": {},
   "source": [
    "There are four possible outcomes for our hypothesis testing, with two [**types of errors**](https://en.wikipedia.org/wiki/Type_I_and_type_II_errors):\n",
    "\n",
    "| Decision          | $$H_0$$ is True                      | $$H_0$$ is False                     |\n",
    "|-------------------:|:---------------------------------:|:---------------------------------:|\n",
    "| **Reject H0** | **Type I error**: False Positive   | Correct inference: True Positive |\n",
    "| **Fail to reject H0** | Correct inference: True Negative | **Type II error**: False Negative |\n",
    "\n",
    "<br>\n",
    "\n",
    "The **Type I error** is the probability of incorrecly rejecting the null hypothesis when the sample belongs to the population but with extreme values; this probability is equal to the **level of significance** $\\alpha$. It is also called **False Positive**: falsely stating that the alternate hypothesis is true.\n",
    "\n",
    "The **Type II error** $\\beta$ is the probability of incorrectly failing to reject a null hypothesis; it is also called **False Negative**.\n",
    "\n",
    "\n",
    "_Note: The probabilities of making these two kinds of errors are related. Decreasing the Type I error increases the probability of the Type II error._\n"
   ]
  },
  {
   "cell_type": "markdown",
   "metadata": {},
   "source": [
    "### Statistical Power"
   ]
  },
  {
   "cell_type": "markdown",
   "metadata": {},
   "source": [
    "[**Power**](https://en.wikipedia.org/wiki/Statistical_power), also called the **sensitivity**, is the probability of correctly rejecting a false $H_0$; It is equal to $1 - \\beta$.\n",
    "\n",
    "Two key things impact statistical power:\n",
    "+ the **effect size**: a large difference between groups is easier to detect.\n",
    "+ the **sample size**: it directly impacts the test statistic and the p-value.\n",
    "\n",
    "Given the variance of data $\\sigma$ and the minimum difference to detect $\\delta$, a typical formula to assess [sample size](https://en.wikipedia.org/wiki/Sample_size_determination) is:\n",
    "\n",
    "$$N = (z_\\alpha + z_\\beta)^2 \\times \\frac{\\sigma^2}{\\delta^2}$$\n",
    "\n",
    "Where $z_\\alpha$ and $z_\\beta$ are the z-score of $\\alpha$ and $\\beta$, respectively. "
   ]
  },
  {
   "cell_type": "markdown",
   "metadata": {},
   "source": [
    "___\n",
    "\n",
    "## Choosing a Test"
   ]
  },
  {
   "cell_type": "markdown",
   "metadata": {},
   "source": [
    "Choosing a [statistical test](http://www.biostathandbook.com/) depends on:\n",
    "+ what hypothesis is tested.\n",
    "+ the type of the variable of interest & its probability distribution.\n"
   ]
  },
  {
   "cell_type": "markdown",
   "metadata": {},
   "source": [
    "![png](./images/stat_tests_overview.png)"
   ]
  },
  {
   "cell_type": "markdown",
   "metadata": {},
   "source": [
    "_Note: relationship modelling will be covered in another article._"
   ]
  },
  {
   "cell_type": "markdown",
   "metadata": {},
   "source": [
    "### Population Inference"
   ]
  },
  {
   "cell_type": "markdown",
   "metadata": {},
   "source": [
    "We can infer the value of the **population parameter** based on the sample statistics. Which parameter represents the population the best depends on the probability distribution."
   ]
  },
  {
   "cell_type": "markdown",
   "metadata": {},
   "source": [
    "![png](./images/stat_tests_inference.png)"
   ]
  },
  {
   "cell_type": "markdown",
   "metadata": {},
   "source": [
    "### Difference Between Samples"
   ]
  },
  {
   "cell_type": "markdown",
   "metadata": {},
   "source": [
    "Comparing samples aims to determine if some characteristics of the population have an impact on the variable of interest. More specifically, we check if different values of some **categorical variable(s)** lead to **different probability distributions** for the variable of interest.\n"
   ]
  },
  {
   "cell_type": "markdown",
   "metadata": {},
   "source": [
    "![png](./images/stat_tests_diff_between_samples.png)"
   ]
  },
  {
   "cell_type": "markdown",
   "metadata": {},
   "source": [
    "### Correlation Coefficients"
   ]
  },
  {
   "cell_type": "markdown",
   "metadata": {},
   "source": [
    "A **correlation coefficient** quantifies the **goodness of fit** between **two continuous or ordinal variables**. "
   ]
  },
  {
   "cell_type": "markdown",
   "metadata": {},
   "source": [
    "![png](./images/stat_tests_correlation.png)"
   ]
  },
  {
   "cell_type": "markdown",
   "metadata": {},
   "source": [
    "___\n",
    "\n",
    "## Assumptions of Parametric Tests"
   ]
  },
  {
   "cell_type": "markdown",
   "metadata": {},
   "source": [
    "Both t-tests and ANOVA compare means between samples. They require specific assumptions for their conclusions to be statistially sound."
   ]
  },
  {
   "cell_type": "markdown",
   "metadata": {},
   "source": [
    "### T-Tests"
   ]
  },
  {
   "cell_type": "markdown",
   "metadata": {},
   "source": [
    "In its most common form, a t-test **compare means**.\n",
    "\n",
    "+ one-sample null hypothesis: the mean of a population has a specific value.\n",
    "+ two-sample null hypothesis: the means of two populations are equal. \n"
   ]
  },
  {
   "cell_type": "markdown",
   "metadata": {},
   "source": [
    "T-tests make the following **assumptions**:\n",
    "+ the sample **mean(s)** follow a **normal distribution** (this is always the case for large samples under the CLT).\n",
    "+ the sample **variance(s)** follow a **$\\chi^2$ distribution** (this is always the case for normally distributed data).\n",
    "\n",
    "In practice, t-tests can be used when:\n",
    "+ the sample size **is large** (30+ observations), OR\n",
    "+ the **population** is roughly **normal** (very small samples - use normal probability plots to assess normality).\n"
   ]
  },
  {
   "cell_type": "markdown",
   "metadata": {},
   "source": [
    "### ANOVA"
   ]
  },
  {
   "cell_type": "markdown",
   "metadata": {},
   "source": [
    "In its most common form, an ANalysis Of VAriance ([ANOVA](https://en.wikipedia.org/wiki/Analysis_of_variance)) **compare means**.\n",
    "\n",
    "+ one-way ANOVA null hypothesis: the means of three or more populations are equal _(see example [here](https://en.wikipedia.org/wiki/One-way_analysis_of_variance#Example))._\n",
    "+ repeated measures ANOVA null hypothesis: the average difference between in-sample values is null.\n"
   ]
  },
  {
   "cell_type": "markdown",
   "metadata": {},
   "source": [
    "ANOVA is mathematically a [generalized linear model (GLM)](https://pythonfordatascience.org/anova-python/), where the factors of all the categorical variables have been one-encoded. In particular, factorial ANOVA include interaction terms between categorical factors and should therefore be interpreted like traditional linear models.\n",
    "\n",
    "ANOVA being a GLM, assumptions are the same as for linear regression:\n",
    "\n",
    "+ Normality\n",
    "+ Homogeneity of variance\n",
    "+ Independent observations\n",
    "\n",
    "_Note: If group sizes are equal, the F-statistic is robust to violations of normality and homogeneity of variance._"
   ]
  },
  {
   "cell_type": "markdown",
   "metadata": {},
   "source": [
    "### Non-Parametric Alternatives"
   ]
  },
  {
   "cell_type": "markdown",
   "metadata": {},
   "source": [
    "**Non-parametric** tests should be used when:\n",
    "+ the **assumptions are not met**.\n",
    "+ the **mean** is **not the most appropriate** parameter to describe the population.\n"
   ]
  },
  {
   "cell_type": "markdown",
   "metadata": {},
   "source": [
    "___\n",
    "\n",
    "## Appendix - Central Limit Theorem"
   ]
  },
  {
   "cell_type": "markdown",
   "metadata": {},
   "source": [
    "### Definition"
   ]
  },
  {
   "cell_type": "markdown",
   "metadata": {},
   "source": [
    "A group of samples having the same size $N$ will have mean values **normally distributed** around the population mean $\\mu$, regardless of the original distribution. This normal distribution has:\n",
    "+ the **same mean** $\\mu$ as the population\n",
    "+ a standard deviation called **standard error** equal to $\\sigma / \\sqrt(n)$, where $\\sigma$ is the SD of the population"
   ]
  },
  {
   "cell_type": "markdown",
   "metadata": {},
   "source": [
    "### Confidence Intervals"
   ]
  },
  {
   "cell_type": "markdown",
   "metadata": {},
   "source": [
    "Because the sampling distribution of sample statistic is **normally distributed**, 95% of all sample means fall within two standard errors of the actual population mean. In other words: we can say with a 95% confidence level that the **population parameter** lies within a confidence interval of plus-or-minus two standard errors of the **sample statistic**. \n"
   ]
  },
  {
   "cell_type": "markdown",
   "metadata": {},
   "source": [
    "Given some sample statistic $\\mu$ and the population parameter $\\mu_0$, there are three possible **alternate hypotheses**:\n",
    "\n",
    "| Left-tailed  | Two-sided     | Right-tailed    |\n",
    "|-----------------:|:-----------------:|:-------------------:|\n",
    "| $\\mu \\lt \\mu_0$ | $\\mu \\neq \\mu_0$   | $\\mu \\gt \\mu_0$     |\n",
    "\n",
    "The p-value being smaller than $\\alpha$ would mean that the sample statistic under $H_0$ is in the blue areas of the **sampling distribution of sample statistic**, depending on the alternate hypothesis."
   ]
  },
  {
   "cell_type": "markdown",
   "metadata": {},
   "source": [
    "<img class=\"center-block\" src=\"https://sebastienplat.s3.amazonaws.com/21a0a7a855f51f6426dfbf6115b872161490032937519\"/>"
   ]
  },
  {
   "cell_type": "markdown",
   "metadata": {},
   "source": [
    "_Note: for two-tailed tests, we use $\\alpha/2$ for each tail. This ensures the total probability of extreme values is $\\alpha$._"
   ]
  },
  {
   "cell_type": "markdown",
   "metadata": {},
   "source": [
    "### Z-Scores"
   ]
  },
  {
   "cell_type": "markdown",
   "metadata": {},
   "source": [
    "We can use two factors to assess the probability of observing the experimental results under the null hypothesis:\n",
    "+ The [**Z-score**](https://en.wikipedia.org/wiki/Standard_score) represents the number of standard deviations an observation is from the mean.\n",
    "+ The sampling distribution of sample statistic is centered around the population parameter and has a standard error linked to the population variance. \n",
    "\n",
    "It means that we can calculate the z-score of our sample statistic to calculate its p-value."
   ]
  },
  {
   "cell_type": "markdown",
   "metadata": {},
   "source": [
    "___\n",
    "\n",
    "## Appendix - Further Reads"
   ]
  },
  {
   "cell_type": "markdown",
   "metadata": {},
   "source": [
    "A few interesting Wikipedia articles:\n",
    "\n",
    "Generalities\n",
    "+ https://en.wikipedia.org/wiki/Sampling_distribution\n",
    "+ https://en.wikipedia.org/wiki/Statistical_hypothesis_testing \n",
    "\n",
    "Probabilities\n",
    "+ https://en.wikipedia.org/wiki/Probability_interpretations\n",
    "+ https://en.wikipedia.org/wiki/Frequentist_probability\n",
    "+ https://en.wikipedia.org/wiki/Bayesian_probability\n",
    "\n",
    "Inference paradigms:\n",
    "+ https://en.wikipedia.org/wiki/Frequentist_inference\n",
    "+ https://en.wikipedia.org/wiki/Bayesian_inference\n",
    "+ https://en.wikipedia.org/wiki/Lindley%27s_paradox\n",
    "+ https://www.stat.berkeley.edu/~stark/Preprints/611.pdf"
   ]
  }
 ],
 "metadata": {
  "kernelspec": {
   "display_name": "Python 3",
   "language": "python",
   "name": "python3"
  },
  "language_info": {
   "codemirror_mode": {
    "name": "ipython",
    "version": 3
   },
   "file_extension": ".py",
   "mimetype": "text/x-python",
   "name": "python",
   "nbconvert_exporter": "python",
   "pygments_lexer": "ipython3",
   "version": "3.8.0"
  },
  "toc": {
   "base_numbering": 1,
   "nav_menu": {},
   "number_sections": false,
   "sideBar": true,
   "skip_h1_title": false,
   "title_cell": "Table of Contents",
   "title_sidebar": "Contents",
   "toc_cell": false,
   "toc_position": {
    "height": "925px",
    "left": "1655px",
    "top": "110px",
    "width": "291.627px"
   },
   "toc_section_display": true,
   "toc_window_display": true
  }
 },
 "nbformat": 4,
 "nbformat_minor": 2
}
