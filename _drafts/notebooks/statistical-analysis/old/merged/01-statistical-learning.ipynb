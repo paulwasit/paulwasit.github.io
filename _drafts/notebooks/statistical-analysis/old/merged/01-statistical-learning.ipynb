{
 "cells": [
  {
   "cell_type": "markdown",
   "metadata": {},
   "source": [
    "## Introduction"
   ]
  },
  {
   "cell_type": "markdown",
   "metadata": {},
   "source": [
    "Statistical learning refers to a vast set of tools for understanding data:\n",
    "\n",
    "+ supervised: building a statistical model for predicting, or estimating, an output based on one or more inputs.\n",
    "+ unsupervised: learning relationships between inputs (no supervising output).\n"
   ]
  },
  {
   "cell_type": "markdown",
   "metadata": {},
   "source": [
    "_TODO: add examples._"
   ]
  },
  {
   "cell_type": "markdown",
   "metadata": {},
   "source": [
    "This series of articles will focus on supervised learning."
   ]
  },
  {
   "cell_type": "markdown",
   "metadata": {},
   "source": [
    "## Modelling"
   ]
  },
  {
   "cell_type": "markdown",
   "metadata": {},
   "source": [
    "### Estimate function"
   ]
  },
  {
   "cell_type": "markdown",
   "metadata": {},
   "source": [
    "Suppose that we observe a quantitative response $Y$ and $p$ different predictors $X = X_1, X_2,...,X_p$. We assume that there is some relationship between them, which can be written in the very general form: $Y = f(X) + \\epsilon$.\n",
    "\n",
    "+ $f$ is some fixed but unknown function of $X$.\n",
    "+ $\\epsilon$ is a random error term, which is independent of $X$ and has a mean of zero."
   ]
  },
  {
   "cell_type": "markdown",
   "metadata": {},
   "source": [
    "We create an estimate $\\hat{f}$ that predicts $Y$: $\\hat{Y} = \\hat{f}(X)$. Choosing $\\hat{f}$ depends on the goal of the modelisation."
   ]
  },
  {
   "cell_type": "markdown",
   "metadata": {},
   "source": [
    "### Predictions vs Inference"
   ]
  },
  {
   "cell_type": "markdown",
   "metadata": {},
   "source": [
    "When focusing on **predictions accuracy**, we are not overly concerned with the shape of $\\hat{f}$, as long as it yields accurate predictions for $Y$: we treat it as a black box."
   ]
  },
  {
   "cell_type": "markdown",
   "metadata": {},
   "source": [
    "When focusing on **inference**, we want to understand the way that $Y$ is affected as $X$ changes, so we cannot treat $\\hat{f}$ as a black box:\n",
    "\n",
    "+ Which predictors are associated with the response? Which ones are the most important?\n",
    "+ What is the relationship between the response and each predictor: positive or negative? Is there covariance?\n",
    "+ Can the relationship between $Y$ and each predictor be adequately summarized using a linear equation, or is the relationship more complicated?"
   ]
  },
  {
   "cell_type": "markdown",
   "metadata": {},
   "source": [
    "_TODO: add examples._"
   ]
  },
  {
   "cell_type": "markdown",
   "metadata": {},
   "source": [
    "## Sampling"
   ]
  },
  {
   "cell_type": "markdown",
   "metadata": {},
   "source": [
    "We usually do not have access to an entire population, but only to a subset of its members that time and resources allow us to measure. We use this sample data to draw probabilistic conclusions about the population; this process is called [statistical inference](https://www.encyclopediaofmath.org/index.php/Statistical_inference)."
   ]
  },
  {
   "cell_type": "markdown",
   "metadata": {},
   "source": [
    "There are several ways to sample a population:\n",
    "\n",
    "+ [Simple random sample](https://en.wikipedia.org/wiki/Simple_random_sample) – each subject in the population has an equal chance of being selected. Some demographics might be missed.\n",
    "+ [Stratified random sample](https://en.wikipedia.org/wiki/Stratified_sampling) – the population is divided into groups based on some characteristic (e.g. sex, geographic region). Then simple random sampling is done for each group based on its size in the actual population.\n",
    "+ [Cluster sample](https://en.wikipedia.org/wiki/Cluster_sampling) – a random cluster of subjects is selected from the population (e.g. certain neighborhoods instead of the entire city).\n"
   ]
  },
  {
   "cell_type": "markdown",
   "metadata": {},
   "source": [
    "Sampling must be probabilistic in order to make inference about the whole population. Otherwise, the inference can only be made about the sample itself.\n",
    "\n",
    "There are several forms of [sampling bias](https://en.wikipedia.org/wiki/Sampling_bias):\n",
    "+ selection bias: not fully representative of the entire population.\n",
    "    + people who answer surveys.\n",
    "    + people from specific segments of the population (polling about health at fruit stand).\n",
    "+ survivorship bias: population improving over time by having lesser members leave due to death.\n",
    "    + head injuries with metal helmets increasing vs cloth caps because less lethal.\n",
    "    + damage in WWII planes: not uniformally distributed in planes that came back, but only in non-critical areas.\n",
    "    \n",
    "_Note: other [criteria](https://en.wikipedia.org/wiki/Selection_bias) can also impact the representativity of our sample._\n"
   ]
  }
 ],
 "metadata": {
  "kernelspec": {
   "display_name": "Python 3",
   "language": "python",
   "name": "python3"
  },
  "language_info": {
   "codemirror_mode": {
    "name": "ipython",
    "version": 3
   },
   "file_extension": ".py",
   "mimetype": "text/x-python",
   "name": "python",
   "nbconvert_exporter": "python",
   "pygments_lexer": "ipython3",
   "version": "3.8.0"
  },
  "toc": {
   "base_numbering": 1,
   "nav_menu": {},
   "number_sections": false,
   "sideBar": true,
   "skip_h1_title": false,
   "title_cell": "Table of Contents",
   "title_sidebar": "Contents",
   "toc_cell": false,
   "toc_position": {
    "height": "calc(100% - 180px)",
    "left": "10px",
    "top": "150px",
    "width": "262px"
   },
   "toc_section_display": true,
   "toc_window_display": true
  }
 },
 "nbformat": 4,
 "nbformat_minor": 4
}
