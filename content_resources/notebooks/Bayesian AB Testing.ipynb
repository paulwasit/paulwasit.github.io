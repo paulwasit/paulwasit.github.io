{
 "cells": [
  {
   "cell_type": "markdown",
   "metadata": {},
   "source": [
    "# Bayesian A/B Testing"
   ]
  },
  {
   "cell_type": "markdown",
   "metadata": {},
   "source": [
    "## Introduction"
   ]
  },
  {
   "cell_type": "markdown",
   "metadata": {},
   "source": [
    "### A/B Testing"
   ]
  },
  {
   "cell_type": "markdown",
   "metadata": {},
   "source": [
    "A/B Testing is used to compare several items and select the best option based on a quantitative metric. \n",
    "\n",
    "Some applications include:\n",
    "\n",
    "+ Testing a new medicine to see if it works. We test if it works by having a control group vs treatment group.\n",
    "+ Designing several options for a website to see which one brings the most conversion rate.\n",
    "+ Comparing the ratio of failures of hardware from two vendors."
   ]
  },
  {
   "cell_type": "markdown",
   "metadata": {},
   "source": [
    "### Frequentist vs Bayesian approach"
   ]
  },
  {
   "cell_type": "markdown",
   "metadata": {},
   "source": [
    "Frequentist approach:\n",
    "+ Frequentist assume there is a **true value** for a given population parameter. \n",
    "+ Inference exists to estimate it to a given level of confidence: $\\hat{\\theta} = \\text{argmax}_\\theta P(X | \\theta)$.\n",
    "\n",
    "Bayesian approach:\n",
    "+ Bayesian assume the given population parameter is a **random variable**. \n",
    "+ Inference exits to calculate its **posterior probability distribution** from the data we have collected: $P(\\theta | X)$.\n",
    "\n",
    "Sampling methods:\n",
    "+ Importance sampling\n",
    "+ Markov chain Monte Carlo ([MCMC](https://en.wikipedia.org/wiki/Markov_chain_Monte_Carlo)), typically used to approximate large multi-dimensional integrals"
   ]
  },
  {
   "cell_type": "markdown",
   "metadata": {},
   "source": [
    "___\n",
    "\n",
    "## Limits of Frequentist Statistics"
   ]
  },
  {
   "cell_type": "markdown",
   "metadata": {},
   "source": [
    "### General limitations"
   ]
  },
  {
   "cell_type": "markdown",
   "metadata": {},
   "source": [
    "+ Terms and definitions are hard to understand for non-technical - and even many technical - people.\n",
    "+ The experiment needs to run for the appropriate sample size before we can draw conclusions without running the risk of false positives.\n",
    "+ Failing to reject the null hypothesis is NOT the same as accepting it. Maybe the sample size was just to small or the variance very large."
   ]
  },
  {
   "cell_type": "markdown",
   "metadata": {},
   "source": [
    "### Estimate of a population parameter"
   ]
  },
  {
   "cell_type": "markdown",
   "metadata": {},
   "source": [
    "We use the CLT to estimate the value of a population paramater to a given level of confidence. The variance of the sampling distribution of the sample statistic is a Gaussian Distribution of variance $\\sigma^2 / N$, where $\\sigma^2$ is the variance of the population paramater.\n",
    "\n",
    "Drawbacks:\n",
    "+ if $\\sigma$ is large, you need large samples to get an accurate view\n",
    "+ we usually don't know $\\sigma$, but we can use the sample variance $\\hat{\\sigma}$ instead (or use the t-distribution for more precise CI)"
   ]
  },
  {
   "cell_type": "markdown",
   "metadata": {},
   "source": [
    "### Limits of p-value"
   ]
  },
  {
   "cell_type": "markdown",
   "metadata": {},
   "source": [
    "The example below shows the evolution of the p-value of Chi-Square tests comparing two ads over time. We see that the p-value can vary dramatically from one experiment to the next:"
   ]
  },
  {
   "cell_type": "code",
   "execution_count": 195,
   "metadata": {
    "code_folding": [
     5
    ]
   },
   "outputs": [],
   "source": [
    "import numpy as np\n",
    "import pandas as pd\n",
    "import matplotlib.pyplot as plt\n",
    "from scipy.stats import chi2_contingency\n",
    "\n",
    "class Clickthrough:\n",
    "    \n",
    "    def __init__(self, ctr_a, ctr_b, n_visits):\n",
    "        '''\n",
    "        init the true ctr of two ad campaigns\n",
    "        and the empty df that will store the observed ctr\n",
    "        and the p-value of the chi-square test after each visit\n",
    "        '''\n",
    "        self.ctr_a = ctr_a\n",
    "        self.ctr_b = ctr_b\n",
    "        self.visits = 0\n",
    "        self.visits_a = np.array([0, 0])\n",
    "        self.visits_b = np.array([0, 0])\n",
    "        self.pval = np.zeros(n_visits)\n",
    "\n",
    "    def visit(self):\n",
    "        '''\n",
    "        simulates a visit that have a self.true_ctr likelihood\n",
    "        of doing a ctr\n",
    "        '''\n",
    "        # random visit result\n",
    "        self.visits += 1\n",
    "        click_a = (np.random.random() < self.ctr_a)\n",
    "        click_b = (np.random.random() < self.ctr_b)\n",
    "        \n",
    "        # save results\n",
    "        self.visits_a += [click_a, 1 - click_a]\n",
    "        self.visits_b += [click_b, 1 - click_b]\n",
    "        \n",
    "        # calculate p-value of chi-square test\n",
    "        self.calculate_pval()\n",
    "      \n",
    "    def calculate_pval(self):\n",
    "        '''\n",
    "        calculate the p-value of a chi-square test checking if ad_A and ad_B have \n",
    "        the same ctr\n",
    "        '''\n",
    "        if self.visits > 10:\n",
    "            _, pval, _, _ = chi2_contingency(np.array([self.visits_a, self.visits_b]), correction=False)\n",
    "            self.pval[self.visits - 1] = pval\n",
    "        \n",
    "    def display_results(self):\n",
    "        '''\n",
    "        display the respective clicks of ad_A and ad_B in a nice way\n",
    "        '''\n",
    "        df = pd.DataFrame(\n",
    "            np.array([self.visits_a, self.visits_b]), \n",
    "            index=['ad_A', 'ad_B'],\n",
    "            columns=['Click', 'No Click']\n",
    "        )\n",
    "        return df\n",
    "    \n",
    "    def plot_pvalues(self):\n",
    "        plt.plot(self.pval)\n",
    "        plt.plot(np.ones(self.pval.shape[0]) * 0.05)\n",
    "        axes = plt.gca()\n",
    "        axes.set_ylim([0,1])\n",
    "        plt.show()"
   ]
  },
  {
   "cell_type": "code",
   "execution_count": 196,
   "metadata": {},
   "outputs": [
    {
     "data": {
      "image/png": "[encoded data removed]",
      "text/plain": [
       "<Figure size 432x288 with 1 Axes>"
      ]
     },
     "metadata": {
      "needs_background": "light"
     },
     "output_type": "display_data"
    }
   ],
   "source": [
    "n_visits = 20000\n",
    "ctr = Clickthrough(0.1, 0.11, 20000)\n",
    "for visits in range(20000):\n",
    "    ctr.visit()\n",
    "    \n",
    "ctr.plot_pvalues()"
   ]
  },
  {
   "cell_type": "code",
   "execution_count": 197,
   "metadata": {
    "scrolled": true
   },
   "outputs": [
    {
     "data": {
      "image/png": "[encoded data removed]",
      "text/plain": [
       "<Figure size 432x288 with 1 Axes>"
      ]
     },
     "metadata": {
      "needs_background": "light"
     },
     "output_type": "display_data"
    }
   ],
   "source": [
    "n_visits = 20000\n",
    "ctr = Clickthrough(0.1, 0.11, 20000)\n",
    "for visits in range(20000):\n",
    "    ctr.visit()\n",
    "    \n",
    "ctr.plot_pvalues()"
   ]
  },
  {
   "cell_type": "markdown",
   "metadata": {},
   "source": [
    "___\n",
    "\n",
    "## Probability & Bayes Theorem"
   ]
  },
  {
   "cell_type": "markdown",
   "metadata": {},
   "source": [
    "### Definitions"
   ]
  },
  {
   "cell_type": "markdown",
   "metadata": {},
   "source": [
    "Probability is the likelihood of a given event occuring for each experiment of a given sample space.\n",
    "\n",
    "Draw $r$ times from a population of $n$ (with or without repetition):\n",
    "+ Permutations: order matters\n",
    "+ Combination: order does not matter\n",
    "\n",
    "<br>\n",
    "\n",
    "Relationship between events:\n",
    "+ **Marginal** probability: P(A)\n",
    "+ **Conditional** probability P(B|A): probability of B given A\n",
    "+ **Joint** probability P(A ∩ B): Intersection of two events A and B \n",
    "+ Union of two events P(A ∪ B): A or B\n",
    "+ Complement of an event P(A'): not A\n",
    "\n",
    "Note: \n",
    "+ rule of substraction: P(A) = 1 - P(A')\n",
    "+ rule of addition: P(A ∪ B) = P(A) + P(B) - P(A ∩ B)\n",
    "+ rule of multiplication: P(A ∩ B) = P(A) P(B|A)\n",
    "+ rule of multiplication: P(A ∩ B ∩ C) = P(A) P(B|A) P(C|AB)\n",
    "\n",
    "<br>\n",
    "\n",
    "Events are:\n",
    "+ Independant when the outcome of one has no effect on others\n",
    "+ Dependant when the outcome of one has some effect on others (example: draw without replacement)\n",
    "\n",
    "Note for independant events: \n",
    "+ P(B|A) = P(B) so P(A ∩ B) = P(A) P(B)"
   ]
  },
  {
   "cell_type": "markdown",
   "metadata": {},
   "source": [
    "### Bayes Theorem"
   ]
  },
  {
   "cell_type": "markdown",
   "metadata": {},
   "source": [
    "We know that P(A ∩ B) = P(A) P(B|A) = P(B) P(A|B). It means that (Bayes Theorem):\n",
    "+ P(A|B) = P(B|A) $\\times$ P(A) / P(B)\n",
    "\n",
    "Where:\n",
    "+ P(B) = sum [ P(B|A) $\\times$ P(A) ] for all A _(or integral for continuous data)_\n",
    "\n",
    "Notes:\n",
    "+ probabilities equal to one when considering the space of random variables. The sum of P(B|A) will be equal to one for each given value of A.\n",
    "+ P(B) does not depend on A, so $\\text{argmax}_A P(A|B) = \\text{argmax}_A P(B|A) P(A)$"
   ]
  },
  {
   "cell_type": "markdown",
   "metadata": {},
   "source": [
    "### Curse of Dimensionality"
   ]
  },
  {
   "cell_type": "markdown",
   "metadata": {},
   "source": [
    "**Joint probabilities** increase **exponentially** with the number of variables:\n",
    "+ requires more computational power\n",
    "+ requires more data to get accurate estimates\n",
    "+ leads to exponentially small probabilities (computers having finite precision lead to underflow issues)\n",
    "+ log probability can be used to mitigate this issue"
   ]
  },
  {
   "cell_type": "markdown",
   "metadata": {},
   "source": [
    "___\n",
    "\n",
    "## Bayes Theorem Examples"
   ]
  },
  {
   "cell_type": "markdown",
   "metadata": {},
   "source": [
    "### Diagnostic Tools"
   ]
  },
  {
   "cell_type": "markdown",
   "metadata": {},
   "source": [
    "Bayes Theorem determines the probability of a parameter given a certain event. It is used extensively in fields with diagnostic tools that are only effective to a certain degree.\n",
    "\n",
    "+ a company learns that 0.2% of their products are defective.\n",
    "+ they buy a diagnotic tool that is correct 99% of the time.\n",
    "+ if a part is diagnosed as defective, what is the probability that is is _really_ defective?\n",
    "\n",
    "Let's use the following notations:\n",
    "+ OK when not defective, NOK when defective\n",
    "+ DI when diagnosed as not defective, NDI when diagnosed as defective\n",
    "\n",
    "Bayes Theorem states that:\n",
    "\n",
    "+ P(NOK|NDI) = P(NDI|NOK) P(NOK) / P(NDI)\n",
    "\n",
    "Where:\n",
    "+ P(NDI|NOK) = 0.99 - true positive\n",
    "+ P(NOK) = 0.002\n",
    "+ P(NDI) = P(NDI|NOK) x P(NOK) + P(NDI|OK) x P(OK) = true positive + false positive = 0.99 x 0.002 + 0.01 x 0.998\n",
    "\n",
    "It means that:\n",
    "+ P(NOK|NDI) = 16.5%\n",
    "\n",
    "If we run a second test that is _also_ positive on the same product, we can update the probability of it being _really_ defective using the result of the first test:\n",
    "\n",
    "+ P(NOK) = 16.5%\n",
    "+ P(NOK|NDI) = 95.1%"
   ]
  },
  {
   "cell_type": "markdown",
   "metadata": {},
   "source": [
    "### Coin tosses"
   ]
  },
  {
   "cell_type": "markdown",
   "metadata": {},
   "source": [
    "We want to toss a fair coin 200 times. After 20 tosses, we have 15H and 5T. What is the expected end result?\n",
    "\n",
    "+ it is not 100H and 100T, because we have already tossed 20 times.\n",
    "+ it has become 15 + (200 - 20) / 2 = 105H and 5 + (200 - 20) / 2 = 95T."
   ]
  },
  {
   "cell_type": "markdown",
   "metadata": {},
   "source": [
    "### Monty Hall Problem"
   ]
  },
  {
   "cell_type": "markdown",
   "metadata": {},
   "source": [
    "A show has three doors to choose from, and behind one of them is a car. After you choose one door, the host reveals another one and asks you if you want to switch. Should you do it?\n",
    "\n",
    "Let's imagine you choose door N°1 and the host opens door at door you did not pick, for instance N°2. You want to calculate the probabilities of P(D1 | H2) and P(D3 | H2), where P(Dx) is the probability that the car is behind door N°x and H2 the door that the host has chosen.\n",
    "\n",
    "+ P(Dx | H2) = P(H2 | Dx) * P(Dx) / P(H2)\n",
    "+ P(H2) = P(H2 | D1) * P(D1) + P(H2 | D2) * P(D2) + P(H2 | D3) * P(D3) \n",
    "\n",
    "Let's look at P(H2 | Dx):\n",
    "+ P(H2 | D1) = 0.5   - the host could have chosen either door N°2 or door N°3\n",
    "+ P(H2 | D2) = 0     - the host would not reveal the car\n",
    "+ P(H2 | D3) = 1     - the host would always avoid revealing the door that the contestant chose if possible\n",
    "\n",
    "A simple calculation gives P(D1 | H2) = 1/3 and P(D3 | H2) = 2/3: you should switch doors."
   ]
  },
  {
   "cell_type": "markdown",
   "metadata": {},
   "source": [
    "___\n",
    "\n",
    "## Bayesian Statistics"
   ]
  },
  {
   "cell_type": "markdown",
   "metadata": {},
   "source": [
    "### Explore vs Exploit"
   ]
  },
  {
   "cell_type": "markdown",
   "metadata": {},
   "source": [
    "The Multi-Armed Bandits states that you are in a casino playing slots. Three machines have three different pay rates: 30%, 20%, and 10% respectively.\n",
    "\n",
    "Frequentist Statistics would:\n",
    "+ perform a Chi-Square test after $N$ trials\n",
    "+ calculate the p-value\n",
    "+ identify if one of them is significantly better than the others\n",
    "\n",
    "But if you were to test it, you would:\n",
    "+ try each machine a few times\n",
    "+ collect data\n",
    "+ adapt your strategy to your conclusions\n",
    "\n",
    "A typical strategy would be to:\n",
    "+ **explore** at random to collect more data, \n",
    "+ or **exploit** the one that seems to give the best results"
   ]
  },
  {
   "cell_type": "markdown",
   "metadata": {},
   "source": [
    "### Beta Distribution"
   ]
  },
  {
   "cell_type": "markdown",
   "metadata": {},
   "source": [
    "We want to measure the clickthrough rate of our website. The more data we have, the more confident we are of its value. In other words, the confidence interval narrows when the sample size increases."
   ]
  },
  {
   "cell_type": "code",
   "execution_count": 51,
   "metadata": {
    "code_folding": [
     4
    ]
   },
   "outputs": [],
   "source": [
    "import numpy as np\n",
    "import matplotlib.pyplot as plt\n",
    "from scipy.stats import beta\n",
    "\n",
    "class Clickthrough:\n",
    "    \n",
    "    def __init__(self, true_ctr):\n",
    "        '''\n",
    "        init the ctr class true ctr\n",
    "        and observations (total and actual ctr)\n",
    "        '''\n",
    "        self.true_ctr = true_ctr\n",
    "        self.obs_visits = 0\n",
    "        self.obs_clicks = 0\n",
    "        self.obs_ctr = 0\n",
    "        \n",
    "        self.x = np.linspace(0, 1, 200)\n",
    "        self.betas = {}\n",
    "        \n",
    "    def beta(self):\n",
    "        '''\n",
    "        saves the beta distribution of shape parameters\n",
    "        self.obs_clicks and self.obs_visits\n",
    "        '''\n",
    "        y = beta.pdf(self.x, self.obs_clicks, self.obs_visits)\n",
    "        self.betas[self.obs_visits] = [self.obs_ctr, y]\n",
    "\n",
    "    def visit(self):\n",
    "        '''\n",
    "        simulates a visit that have a self.true_ctr likelihood\n",
    "        of doing a ctr\n",
    "        '''\n",
    "        # random visit result\n",
    "        self.obs_visits += 1\n",
    "        visit_result = (np.random.random() < self.true_ctr)\n",
    "        if visit_result:\n",
    "            self.obs_clicks += 1\n",
    "\n",
    "        # current observed ctr\n",
    "        self.obs_ctr = self.obs_clicks / self.obs_visits\n",
    "        \n",
    "        # saves beta distribution\n",
    "        if self.obs_visits in [0, 5, 10, 25, 50, 200, 500]:\n",
    "            self.beta()\n",
    "        \n",
    "    def plot(self):\n",
    "        '''\n",
    "        show beta distributions\n",
    "        '''\n",
    "\n",
    "        # init plot fig\n",
    "        fig, ax = plt.subplots(nrows=1, ncols=1, figsize=(10,5))\n",
    "        for (obs_visits, [obs_ctr, obs_beta]) in self.betas.items():\n",
    "            ax.plot(self.x, obs_beta, label = '{} visits - obs_ctr: {:.2}'.format(obs_visits, obs_ctr))\n",
    "            ax.legend()\n",
    "\n",
    "        plt.show()"
   ]
  },
  {
   "cell_type": "code",
   "execution_count": 54,
   "metadata": {
    "code_folding": []
   },
   "outputs": [
    {
     "data": {
      "image/png": "[encoded data removed]",
      "text/plain": [
       "<Figure size 720x360 with 1 Axes>"
      ]
     },
     "metadata": {
      "needs_background": "light"
     },
     "output_type": "display_data"
    }
   ],
   "source": [
    "ctr = Clickthrough(0.3) \n",
    "for visits in range(501):\n",
    "    ctr.visit()\n",
    "    \n",
    "ctr.plot()"
   ]
  },
  {
   "cell_type": "markdown",
   "metadata": {},
   "source": [
    "### CTR Example"
   ]
  },
  {
   "cell_type": "code",
   "execution_count": 207,
   "metadata": {},
   "outputs": [
    {
     "data": {
      "text/html": [
       "<div>\n",
       "<style scoped>\n",
       "    .dataframe tbody tr th:only-of-type {\n",
       "        vertical-align: middle;\n",
       "    }\n",
       "\n",
       "    .dataframe tbody tr th {\n",
       "        vertical-align: top;\n",
       "    }\n",
       "\n",
       "    .dataframe thead th {\n",
       "        text-align: right;\n",
       "    }\n",
       "</style>\n",
       "<table border=\"1\" class=\"dataframe\">\n",
       "  <thead>\n",
       "    <tr style=\"text-align: right;\">\n",
       "      <th></th>\n",
       "      <th>Click</th>\n",
       "      <th>No Click</th>\n",
       "    </tr>\n",
       "    <tr>\n",
       "      <th>advertisement_id</th>\n",
       "      <th></th>\n",
       "      <th></th>\n",
       "    </tr>\n",
       "  </thead>\n",
       "  <tbody>\n",
       "    <tr>\n",
       "      <td>A</td>\n",
       "      <td>304</td>\n",
       "      <td>696</td>\n",
       "    </tr>\n",
       "    <tr>\n",
       "      <td>B</td>\n",
       "      <td>372</td>\n",
       "      <td>628</td>\n",
       "    </tr>\n",
       "  </tbody>\n",
       "</table>\n",
       "</div>"
      ],
      "text/plain": [
       "                  Click  No Click\n",
       "advertisement_id                 \n",
       "A                   304       696\n",
       "B                   372       628"
      ]
     },
     "metadata": {},
     "output_type": "display_data"
    },
    {
     "name": "stdout",
     "output_type": "stream",
     "text": [
      "Chi-Square test: 10.0 - p-value: 0.00154\n"
     ]
    }
   ],
   "source": [
    "#chi-square example\n",
    "import pandas as pd\n",
    "import scipy.stats as stats \n",
    "\n",
    "csv_path = r'..\\courses material\\Bayesian Machine Learning\\advertisement_clicks.csv'\n",
    "ctr = pd.read_csv(csv_path, dtype={'advertisement_id': str, 'action': int})\n",
    "\n",
    "# build df\n",
    "df = ctr.groupby('advertisement_id').agg({'action': ['count', 'sum']})\n",
    "df.columns = ['Total', 'Click']\n",
    "df['No Click'] = df['Total'] - df['Click']\n",
    "df = df.drop(columns = ['Total'])\n",
    "\n",
    "display(df)\n",
    "\n",
    "# we reject the null hypothesis of no impact: ad B is better than A\n",
    "chi2, p, _, _ = stats.chi2_contingency(df)\n",
    "print('Chi-Square test: {:.3} - p-value: {:.3}'.format(chi2, p)) "
   ]
  }
 ],
 "metadata": {
  "kernelspec": {
   "display_name": "Python 3",
   "language": "python",
   "name": "python3"
  },
  "language_info": {
   "codemirror_mode": {
    "name": "ipython",
    "version": 3
   },
   "file_extension": ".py",
   "mimetype": "text/x-python",
   "name": "python",
   "nbconvert_exporter": "python",
   "pygments_lexer": "ipython3",
   "version": "3.7.4"
  },
  "toc": {
   "base_numbering": 1,
   "nav_menu": {},
   "number_sections": false,
   "sideBar": true,
   "skip_h1_title": false,
   "title_cell": "Table of Contents",
   "title_sidebar": "Contents",
   "toc_cell": false,
   "toc_position": {
    "height": "calc(100% - 180px)",
    "left": "10px",
    "top": "150px",
    "width": "262px"
   },
   "toc_section_display": true,
   "toc_window_display": true
  }
 },
 "nbformat": 4,
 "nbformat_minor": 2
}
