{
 "cells": [
  {
   "source": [
    "## Proportion tests\n",
    "\n",
    "A **proportion test** looks for a share of a population that have a specific trait. We assume that the population follows a binomial distribution with a probability $p_0$ of having a given trait, and the sample has a measured probability $\\hat{p}$.\n",
    "\n",
    "It also leverages the CLT, with the following tweaks:\n",
    "+ proportions are equal to $\\hat{p} - p_0$\n",
    "+ population variance equals $p_0 \\times(1 - p_0)$ according to the binomial distribution\n"
   ],
   "cell_type": "markdown",
   "metadata": {}
  },
  {
   "cell_type": "code",
   "execution_count": null,
   "metadata": {},
   "outputs": [],
   "source": [
    "# example: test if most customers of a website are teenagers. H0: teen_proportion <= 0.5 \n",
    "# sample_teen_proportion = 0.58, sample_size = 400\n",
    "# H0_teen_proportion = 0.5, HO_variance = sample_size * H0_teen_proportion * (1 - H0_teen_proportion)\n",
    "\n",
    "# the sample_teen_proportion under H0 is in the 99.9% percentile, inside our cutoff area: we reject H0\n",
    "\n",
    "z_score = (0.58 - 0.5) / (np.sqrt(0.5 * (1 - 0.5)) / np.sqrt(400))\n",
    "print('p-value: {:.1%} < 5% cutoff'.format(stats.norm.sf(x=z_score))) # right-tail so survival function = 1 - cdf\n"
   ]
  },
  {
   "source": [
    "___\n",
    "\n",
    "# Chi-Square Analysis \n",
    "\n",
    "The variable to analyze is **nominal**: you want to compare the **frequencies** among categories.\n",
    "+ **Chi-Square** test (the test statistic follows a **Chi-Square distribution**).\n",
    "    + One-way when the categorical variable only has one value (ex: repartition of patient discharges per day of the week).\n",
    "    + Two-way otherwise: test of independance or conformity (ex: comparing proportion among population categories).\n",
    "    + The only alternate hypothesis is that the different categories have different frequencies.\n",
    "+ **Fisher's exact test** if the sample size is small.\n",
    "\n",
    "The [Chi-Square Analysis](https://docs.scipy.org/doc/scipy/reference/generated/scipy.stats.chisquare.html) determines the **probability of an observed frequency of events** given an expected frequency. If we get heads ten times in a row, how likely is it to happen if we assume the coin to be fair?\n",
    "\n",
    "$\\chi^2 = \\sum (O - E)^2 / E$ for each possible outcome of an experiment.\n",
    "\n",
    "\n",
    "## Chi-Square Distribution\n",
    "\n",
    "The Chi-Square Distribution depends on its degrees of freedom, which are the number of possible outcomes minus one.\n"
   ],
   "cell_type": "markdown",
   "metadata": {}
  },
  {
   "source": [
    "# example of Chi-Square-distribution\n",
    "fig, ax = plt.subplots(1, 1)\n",
    "\n",
    "# degrees of freedom\n",
    "for df in [3,4,5,6]:\n",
    "\n",
    "    # 100 x points between the first and 99th percentile of the f-distribution & corresponding f values\n",
    "    x = np.linspace(stats.chi2.ppf(0.01, df), stats.chi2.ppf(0.99, df), 100)\n",
    "    y = stats.chi2.pdf(x, df)\n",
    "\n",
    "    ax.plot(x, y, lw=2, alpha=0.6)\n",
    "\n",
    "plt.show()\n"
   ],
   "cell_type": "code",
   "metadata": {},
   "execution_count": null,
   "outputs": []
  },
  {
   "source": [
    "## One-way Chi-Square"
   ],
   "cell_type": "markdown",
   "metadata": {}
  },
  {
   "cell_type": "code",
   "execution_count": null,
   "metadata": {},
   "outputs": [],
   "source": [
    "# example: we get 12 heads out of 18 coin tosses. Is the coin fair?\n",
    "stats.chisquare([6, 12], f_exp=[9,9]) # p-value is > 5%: we fail to reject the null hypothesis\n"
   ]
  },
  {
   "cell_type": "code",
   "execution_count": null,
   "metadata": {},
   "outputs": [],
   "source": [
    "# a company has six servers. Do they fail at the same rate?\n",
    "# we have 240 failures. If the null hypothesis is true, the probability of failure should be the same for all the six servers: 1/6 or 40 failures per server.\n",
    "\n",
    "obs_failures = [46,36,52,26,42,38]\n",
    "mean_failure = np.mean(obs_failures)\n",
    "\n",
    "stats.chisquare(obs_failures, f_exp=mean_failure) # p-value is > 5%: we fail to reject the null hypothesis\n"
   ]
  },
  {
   "cell_type": "code",
   "execution_count": null,
   "metadata": {},
   "outputs": [],
   "source": [
    "# Are most customers of a website teenagers?\n",
    "# we have a sample of 400 visitors, 58% of which are teenagers. If the null hypothesis is true, the probability of having teenagers is 50% or less.\n",
    "\n",
    "obs_values = [232, 400 - 232]\n",
    "exp_values = [200, 200]\n",
    "\n",
    "stats.chisquare(obs_values, f_exp=exp_values) # p-value is < 5%: we reject the null hypothesis\n"
   ]
  },
  {
   "source": [
    "##  Two-way Chi-Square\n",
    "\n",
    "Suppose there is a city of 1,000,000 residents with four neighborhoods: $A$, $B$, $C$, and $D$. A random sample of 650 residents of the city is taken and their occupation is recorded as \"white collar\", \"blue collar\", or \"no collar\". \n",
    "\n",
    "|                | $A$   | $B$   | $C$   | $D$   | **Total** |\n",
    "|----------------|-------|-------|-------|-------|-----------|\n",
    "|White Collar    |  90   |  60   | 104   |  95   |  **349**  |\n",
    "|Blue Collar     |  30   |  50   |  51   |  20   |  **151**  |\n",
    "|No Collar       |  30   |  40   |  45   |  35   |  **150**  |\n",
    "|**Total**       |**150**|**150**|**200**|**150**|  **650**  |\n",
    "\n",
    "\n",
    "The null hypothesis is that each person's neighborhood of residence is independent of the person's occupational classification. By the assumption of independence under the hypothesis we should \"expect\" the number of white-collar workers in neighborhood $A$ to be:\n",
    "\n",
    "$WC_A = 150\\times\\frac{349}{650} \\approx 80.54$\n",
    "\n",
    "So the contribution of this cell to $\\chi^2$ is $\\frac{(90 - 80.54)^2}{80.54} \\approx 1.11$\n",
    "\n",
    "The sum of these quantities over all of the cells is the test statistic; in this case, $\\approx 24.6$.  Under the null hypothesis, this sum has approximately a chi-squared distribution whose number of degrees of freedom are:\n",
    "\n",
    "$(\\text{number of rows}-1)(\\text{number of columns}-1) = (3-1)(4-1) = 6$\n",
    "\n",
    "If the test statistic is improbably large according to that chi-squared distribution, then one rejects the null hypothesis of 'independence'. In this example, the neighborhood and occupation are linked."
   ],
   "cell_type": "markdown",
   "metadata": {}
  },
  {
   "cell_type": "code",
   "execution_count": null,
   "metadata": {},
   "outputs": [],
   "source": [
    "df = pd.DataFrame({\n",
    "    'A': [ 90,30,30], \n",
    "    'B': [ 60,50,40], \n",
    "    'C': [104,51,45], \n",
    "    'D': [ 95,20,35]}, index=['White Collar', 'Blue Collar', 'No Collar']\n",
    ")\n",
    "display(df)\n",
    "\n",
    "chi2, p, _, _ = stats.chi2_contingency(df)\n",
    "print('Chi-Square test: {:.3} - p-value: {:.3}'.format(chi2, p)) # we reject the null hypothesis of independence\n"
   ]
  },
  {
   "source": [
    "Another example: is the proportion of kids taking swimming lessons depend on their ethnicity:\n",
    "+ 247 Black kids. 36.8% take swimming lessons\n",
    "+ 308 Hispanic kids. 38.9% take swimming lessons\n",
    "\n",
    "The null hypothesis is that the proportion of kids taking swimming lessons does not depend on their ethnicity."
   ],
   "cell_type": "markdown",
   "metadata": {}
  },
  {
   "cell_type": "code",
   "execution_count": null,
   "metadata": {},
   "outputs": [],
   "source": [
    "# contingency matrix\n",
    "df = pd.DataFrame({'black': [91, 156], 'hisp': [120, 188]}, index=['Swim', 'No Swim'])\n",
    "display(df)\n",
    "\n",
    "chi2, p, _, _ = stats.chi2_contingency(df)\n",
    "print('Chi-Square test: {:.3} - p-value: {:.3}'.format(chi2, p)) # we fail to reject the null hypothesis of independence\n"
   ]
  }
 ],
 "metadata": {
  "kernelspec": {
   "display_name": "Python 3.8.0 32-bit",
   "name": "python38032bit64a64ed7a47843b8be3706a54e9a0958"
  },
  "language_info": {
   "codemirror_mode": {
    "name": "ipython",
    "version": 3
   },
   "file_extension": ".py",
   "mimetype": "text/x-python",
   "name": "python",
   "nbconvert_exporter": "python",
   "pygments_lexer": "ipython3",
   "version": "3.8.0-final"
  },
  "orig_nbformat": 2
 },
 "nbformat": 4,
 "nbformat_minor": 2
}