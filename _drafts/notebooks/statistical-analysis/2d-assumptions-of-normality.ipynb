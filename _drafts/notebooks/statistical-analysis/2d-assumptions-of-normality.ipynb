{
 "cells": [
  {
   "source": [
    "# Modules\n"
   ],
   "cell_type": "markdown",
   "metadata": {}
  },
  {
   "cell_type": "code",
   "execution_count": 2,
   "metadata": {},
   "outputs": [],
   "source": [
    "import matplotlib.pyplot as plt\n",
    "import seaborn as sns\n",
    "import numpy as np\n",
    "import pandas as pd\n",
    "import scipy.stats as stats\n",
    "from sklearn import datasets\n",
    "\n",
    "sns.set()\n"
   ]
  },
  {
   "source": [
    "___\n",
    "\n",
    "# MODE, SKEWNESS AND KURTOSIS\n",
    "\n",
    "## Unimodality\n",
    "\n",
    "The peaks of a probability distribution (i.e. local maxima) are called, somewhat confusingly, modes. A variable with only one mode (or peak) is called unimodal. If the probability distribution has more than one mode, the variable is called multimodal. \n",
    "\n",
    "Here is an example of bimodal distribution; the largest peak is the mode of the probability distribution, i.e. the value most likely to occur. \n",
    "\n",
    "<img src=\"https://upload.wikimedia.org/wikipedia/commons/b/bc/Bimodal_geological.PNG\" alt=\"drawing\" width=\"300px\"/>\n",
    "\n",
    "\n",
    "## Skewness\n",
    "\n",
    "Skewness measures the asymmetry of a probability distribution about its mean. For a unimodal distribution:\n",
    "+ negative skew (left-skewed): the tail is on the left side of the distribution; usually appears as a right-leaning curve.\n",
    "+ positive skew (right-skewed): the tail is on the right.\n",
    "\n",
    "![missing](https://upload.wikimedia.org/wikipedia/commons/f/f8/Negative_and_positive_skew_diagrams_%28English%29.svg)\n",
    "\n",
    "It is important to note that a distribution with zero skewness is not always symmetrical (an example of such distribution can be found [here](https://en.wikipedia.org/wiki/Skewness#/media/File:Asymmetric_Distribution_with_Zero_Skewness.jpg)).\n",
    "\n",
    "\n",
    "## Kurtosis\n",
    "\n",
    "The kurtosis measures the likelihood of outliers. \n",
    "+ low kurtosis: the distribution produces fewer and less extreme outliers.\n",
    "+ high kurtosis: the distribution produces more outliers.\n",
    "\n",
    "_Note: for a given distribution, the kurtosis can never be smaller than the squared skewness plus one._\n"
   ],
   "cell_type": "markdown",
   "metadata": {}
  },
  {
   "cell_type": "code",
   "execution_count": null,
   "metadata": {},
   "outputs": [],
   "source": [
    "# distributions (mean=0, variance=1, skewness=0)\n",
    "laplace = stats.laplace(scale=1 / np.sqrt(2))\n",
    "norm = stats.norm()\n",
    "uniform = stats.uniform(-np.sqrt(12) / 2, 2*np.sqrt(12) / 2)\n",
    "\n",
    "# plot\n",
    "x = np.linspace(-5, 5, 100)\n",
    "ax = plt.subplot()\n",
    "\n",
    "# moments (stats uses the Fisher kurtosis by default so we add 3 to get the Pearson kurtosis)\n",
    "for name, distr in zip(['laplace', 'norm', 'uniform'], [laplace, norm, uniform]):\n",
    "    kurt = distr.stats(moments='k')\n",
    "    ax.plot(x, distr.pdf(x), label='{:<8}: {:.1f}'.format(name, kurt+3))\n",
    "\n",
    "# add details\n",
    "_ = ax.set_title('Kurtosis of three distributions\\nwith mean=0, std=1, skew=0')\n",
    "_ = ax.legend()\n"
   ]
  }
 ],
 "metadata": {
  "kernelspec": {
   "display_name": "Python 3.8.0 32-bit",
   "name": "python38032bit64a64ed7a47843b8be3706a54e9a0958",
   "language": "python"
  },
  "language_info": {
   "codemirror_mode": {
    "name": "ipython",
    "version": 3
   },
   "file_extension": ".py",
   "mimetype": "text/x-python",
   "name": "python",
   "nbconvert_exporter": "python",
   "pygments_lexer": "ipython3",
   "version": "3.8.0-final"
  },
  "orig_nbformat": 2
 },
 "nbformat": 4,
 "nbformat_minor": 2
}