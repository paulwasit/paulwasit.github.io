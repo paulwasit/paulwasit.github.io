{
 "metadata": {
  "language_info": {
   "codemirror_mode": {
    "name": "ipython",
    "version": 3
   },
   "file_extension": ".py",
   "mimetype": "text/x-python",
   "name": "python",
   "nbconvert_exporter": "python",
   "pygments_lexer": "ipython3",
   "version": "3.8.0-final"
  },
  "orig_nbformat": 2,
  "kernelspec": {
   "name": "python38032bit64a64ed7a47843b8be3706a54e9a0958",
   "display_name": "Python 3.8.0 32-bit",
   "language": "python"
  }
 },
 "nbformat": 4,
 "nbformat_minor": 2,
 "cells": [
  {
   "source": [
    "# MODULES\n"
   ],
   "cell_type": "markdown",
   "metadata": {}
  },
  {
   "cell_type": "code",
   "execution_count": 5,
   "metadata": {},
   "outputs": [],
   "source": [
    "import numpy as np\n",
    "from scipy import stats\n",
    "import matplotlib.pyplot as plt\n",
    "\n",
    "from sklearn import datasets\n",
    "import pandas as pd\n",
    "from statsmodels.formula.api import ols\n",
    "import statsmodels.api as sm\n",
    "\n",
    "from scipy.stats import chi2\n",
    "from scipy.stats import chisquare\n"
   ]
  },
  {
   "source": [
    "## Independent two-samples t-test\n",
    "\n",
    "The null hypothesis $H_0$ states that the population mean of two samples are equal: $\\mu_1 = \\mu_2$. The test statistic is $t=(\\bar {X_1}-\\bar {X_2}) / s$, where $s^2$ is a measure of common variance whose formula depends on whether the two samples have equal size and/or variance.\n",
    "\n",
    "Under the null hypothesis, the test statistic follows a $t$-distribution (its degrees of freedom depend on the assumptions of equal or unequal variance). \n",
    "\n",
    "Note: Student's t-test assume equality of variance; the Welch's unequal variances t-test, or Welch U test, doesn't make such assumptions. The litterature [does not recommend](https://onlinelibrary.wiley.com/doi/abs/10.1348/000711004849222) to test equality of variances before choosing between the two test. In general, using the Welch U test must be [preferred](https://www.rips-irsp.com/articles/10.5334/irsp.82/).\n"
   ],
   "cell_type": "markdown",
   "metadata": {}
  },
  {
   "cell_type": "code",
   "execution_count": null,
   "metadata": {},
   "outputs": [],
   "source": [
    "# comparing the prod distribution of two plants using the\n",
    "# number of cars produced over the same 10 days\n",
    "cars_plant1 = [1184, 1203, 1219, 1238, 1243, 1204, 1269, 1256, 1156, 1248]\n",
    "cars_plant2 = [1136, 1178, 1212, 1193, 1226, 1154, 1230, 1222, 1161, 1148]\n",
    "\n",
    "stats.ttest_ind(cars_plant1, cars_plant2, equal_var=False) # t > 0 and p/2 > 0.05 so plant1 performs significantly better\n"
   ]
  },
  {
   "source": [
    "___\n",
    "\n",
    "# ANOVA\n",
    "\n",
    "The variable to analyze is **continuous**: you want to compare the **mean** among categories. ANalysis Of VAriance ([ANOVA](https://en.wikipedia.org/wiki/Analysis_of_variance)) tests are used when more than two samples.\n",
    "\n",
    "+ one-way ANOVA null hypothesis: the means of three or more populations are equal _(see example [here](https://en.wikipedia.org/wiki/One-way_analysis_of_variance#Example))._\n",
    "+ repeated measures ANOVA null hypothesis: the average difference between in-sample values is null.\n",
    "\n",
    "## Assumptions\n",
    "\n",
    "ANOVA is mathematically a [generalized linear model (GLM)](https://pythonfordatascience.org/anova-python/), where the factors of all the categorical variables have been one-encoded. In particular, factorial ANOVA include interaction terms between categorical factors and should therefore be interpreted like traditional linear models.\n",
    "\n",
    "ANOVA being a GLM, assumptions are the same as for linear regression:\n",
    "\n",
    "+ Normality\n",
    "+ Homogeneity of variance\n",
    "+ Independent observations\n",
    "\n",
    "_Note: If group sizes are equal, the F-statistic is robust to violations of normality and homogeneity of variance._\n",
    "\n",
    "## F-distribution\n",
    "\n",
    "In an ANOVA, the test statistic follows an **F-distribution** under the null hypothesis.\n",
    "\n",
    "The [F-Distribution](https://www.geo.fu-berlin.de/en/v/soga/Basics-of-statistics/Continous-Random-Variables/F-Distribution/index.html) has two numbers of degrees of freedom: the denominator (sample size) and numerator (number of samples). \n"
   ],
   "cell_type": "markdown",
   "metadata": {}
  },
  {
   "cell_type": "code",
   "execution_count": null,
   "metadata": {},
   "outputs": [],
   "source": [
    "# degrees of freedom\n",
    "dfn, dfd = 30, 8\n",
    "\n",
    "# 100 x points between the first and 99th percentile of the f-distribution & corresponding f values\n",
    "x = np.linspace(stats.f.ppf(0.01, dfn, dfd), stats.f.ppf(0.99, dfn, dfd), 100)\n",
    "y = stats.f.pdf(x, dfn, dfd)\n",
    "\n",
    "# plot\n",
    "fig, ax = plt.subplots(1, 1)\n",
    "ax.plot(x, stats.f.pdf(x, dfn, dfd), 'r-', lw=2, alpha=0.6, label='f pdf')\n",
    "plt.show()\n"
   ]
  },
  {
   "source": [
    "## F-value\n",
    "\n",
    "ANOVA compares two types of variance:\n",
    "\n",
    "+ between groups: how far group means stray from the total mean\n",
    "+ within groups: how far individual values stray from their respective group mean\n",
    "\n",
    "The **F-value** is the variance between groups divided by the variance within groups, where:\n",
    "\n",
    "+ the variance between groups equals the sum of squares group divided by the degrees of freedom (groups)\n",
    "+ the variance within groups equals the sum of squares errors divided by the degrees of freedom (error)\n",
    "\n",
    "The groups belong to the **same population** if the **variance between groups** (numerator) is **small** compared to the **variance within groups** (denominator)."
   ],
   "cell_type": "markdown",
   "metadata": {}
  },
  {
   "source": [
    "## One-way ANOVA"
   ],
   "cell_type": "markdown",
   "metadata": {}
  },
  {
   "cell_type": "code",
   "execution_count": null,
   "metadata": {},
   "outputs": [],
   "source": [
    "# example: number of days each customer took to pay an invoice based on a percentage of discount if early payment\n",
    "discount_0perc = [14, 11, 18, 16, 21]\n",
    "discount_1perc = [21, 15, 23, 10, 16]\n",
    "discount_2perc = [11, 16,  9, 14, 10]\n",
    "\n",
    "stats.f_oneway(discount_0perc, discount_1perc, discount_2perc) # p-value > 0.05, the discounts make no significant difference\n"
   ]
  },
  {
   "source": [
    "## Two-way ANOVA\n",
    "\n",
    "The **two-way ANOVA** is an extension of the one-way ANOVA to test **two independant variables** at the same time, taking interactions between these variables into account. \n",
    "\n",
    "_Note: this can be further generalized to N-way ANOVA._\n"
   ],
   "cell_type": "markdown",
   "metadata": {}
  },
  {
   "cell_type": "code",
   "execution_count": null,
   "metadata": {},
   "outputs": [],
   "source": [
    "# data - same as before, but checking if the amount has an impact\n",
    "df = pd.DataFrame({\n",
    "    'discount': ['2p','2p','2p','2p','2p','1p','1p','1p','1p','1p','0p','0p','0p','0p','0p'],\n",
    "    'amount': [50,100,150,200,250,50,100,150,200,250,50,100,150,200,250],\n",
    "    'days': [16,14,11,10,9,23,21,16,15,10,21,16,18,14,11]\n",
    "})\n",
    "\n",
    "# fit without interaction factor\n",
    "model = ols('days ~ C(discount) + C(amount)', df).fit()\n",
    "\n",
    "# discount has now become significant\n",
    "sm.api.stats.anova_lm(model, typ=2)\n",
    "\n",
    "# model.summary()\n"
   ]
  },
  {
   "cell_type": "code",
   "execution_count": null,
   "metadata": {},
   "outputs": [],
   "source": [
    "# data - three fertilizers, warm vs cold, size of plant\n",
    "df = pd.DataFrame({\n",
    "    'fertilizer': ['A','A','A','A','A','A','B','B','B','B','B','B','C','C','C','C','C','C'],\n",
    "    'temperature': ['W','W','W','C','C','C','W','W','W','C','C','C','W','W','W','C','C','C'],\n",
    "    'size': [13,14,12,16,18,17,21,19,17,14,11,14,18,15,15,15,13,8]\n",
    "})\n",
    "\n",
    "# fit with interaction factor\n",
    "model = ols('size ~ C(fertilizer) * C(temperature)', df).fit()\n",
    "\n",
    "# discount has now become significant\n",
    "sm.api.stats.anova_lm(model, typ=2)\n",
    "\n",
    "# model.summary()\n"
   ]
  },
  {
   "source": [
    "Note on `model.summary()`:\n",
    "+ Durban-Watson detects the presence of autocorrelation.\n",
    "+ Jarque-Bera tests the assumption of normality.\n",
    "+ Omnibus tests the assumption of homogeneity of variance.\n",
    "+ Condition Number assess multicollinearity (should be < 20)."
   ],
   "cell_type": "markdown",
   "metadata": {}
  }
 ]
}