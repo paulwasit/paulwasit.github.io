{
 "cells": [
  {
   "cell_type": "markdown",
   "metadata": {},
   "source": [
    "## Inference"
   ]
  },
  {
   "cell_type": "markdown",
   "metadata": {},
   "source": [
    "> The goal of statistical inference is to make generalizations about the population when only a sample is available.\n"
   ]
  },
  {
   "cell_type": "markdown",
   "metadata": {},
   "source": [
    "In inference, we use an estimate $\\hat{f}$ that predicts $Y$ in order to understand the relationship between the response and each predictor $X_1, X_2,...,X_p$. \n",
    "\n",
    "In some simple cases, we do not have to explicitely model relationships and can use specific statistical tests instead; The most common example is the t-test to compare two samples. As we'll see in the next article, these statistical tests are particular cases of more general linear models. For example, t-tests are a linear model where X = \"sample the observation belongs to\". We try to assess if there is a relationship between X and Y, or if the response depends on the sample.\n"
   ]
  },
  {
   "cell_type": "markdown",
   "metadata": {},
   "source": [
    "More generally, Choosing a [statistical test](http://www.biostathandbook.com/) depends on what we want to measure:\n"
   ]
  },
  {
   "cell_type": "markdown",
   "metadata": {},
   "source": [
    "![png](./images/stat_tests_overview.png)"
   ]
  },
  {
   "cell_type": "markdown",
   "metadata": {},
   "source": [
    "## Hypothesis Testing"
   ]
  },
  {
   "cell_type": "markdown",
   "metadata": {},
   "source": [
    "More formally, understanding relationships between response and predictors is about testing two opposite hypothesis:\n",
    "1. there is no relationship between a predictor and a response.\n",
    "2. there is a relationship."
   ]
  },
  {
   "cell_type": "markdown",
   "metadata": {},
   "source": [
    "### Experimental Design"
   ]
  },
  {
   "cell_type": "markdown",
   "metadata": {},
   "source": [
    "Hypothesis testing is used to **make decisions about a population** using sample data. \n",
    "\n",
    "+ We start with a **null hypothesis $H_0$** that we we asssume to be true:\n",
    "    + the sample parameter is equal to a given value.\n",
    "    + samples with different characteristics are drawn from the same population.\n",
    "+ We run an **experiment** to test this hypothesis:\n",
    "    + **collect data** from a sample of predetermined size _(see [Statistical Power](#Statistical-Power) below)_.\n",
    "    + perform the appropriate **statistical test**.\n",
    "+ Based on the experimental results, we can either **reject** or **fail to reject** this null hypothesis. \n",
    "+ If we reject it, we say that the data supports another, mutually exclusive, **alternate hypothesis**.\n"
   ]
  },
  {
   "cell_type": "markdown",
   "metadata": {},
   "source": [
    "### P-Value"
   ]
  },
  {
   "cell_type": "markdown",
   "metadata": {},
   "source": [
    "We **reject the null hypothesis** if the probability of observing the experimental results, called the **p-value**, is **very small** under its assumption. The cutoff probability is called the **level of significance $\\alpha$** and is typically 5%. \n",
    "\n",
    "More specifically, we measure the probability that our sample(s) produce such a test statistic or one more extreme under the $H_0$ probability distribution. A low p-value means that $H_0$ is unlikely to actually describe the population: we reject the null hypothesis.\n",
    "\n",
    "+ $P\\leq\\alpha$: we **reject** the null hypothesis. The observed effect is **statistically significant**.\n",
    "+ $P\\gt\\alpha$: we **fail to reject** the null hypothesis. The observed effect is **not statistically significant**.\n"
   ]
  },
  {
   "cell_type": "markdown",
   "metadata": {},
   "source": [
    "### Types of Errors"
   ]
  },
  {
   "cell_type": "markdown",
   "metadata": {},
   "source": [
    "There are four possible outcomes for our hypothesis testing, with two [**types of errors**](https://en.wikipedia.org/wiki/Type_I_and_type_II_errors):\n",
    "\n",
    "| Decision          | $$H_0$$ is True                      | $$H_0$$ is False                     |\n",
    "|-------------------:|:---------------------------------:|:---------------------------------:|\n",
    "| **Reject H0** | **Type I error**: False Positive   | Correct inference: True Positive |\n",
    "| **Fail to reject H0** | Correct inference: True Negative | **Type II error**: False Negative |\n",
    "\n",
    "<br>\n",
    "\n",
    "The **Type I error** is the probability of incorrecly rejecting the null hypothesis when the sample belongs to the population but with extreme values; this probability is equal to the **level of significance** $\\alpha$. It is also called **False Positive**: falsely stating that the alternate hypothesis is true.\n",
    "\n",
    "The **Type II error** $\\beta$ is the probability of incorrectly failing to reject a null hypothesis; it is also called **False Negative**.\n",
    "\n",
    "\n",
    "_Note: The probabilities of making these two kinds of errors are related. Decreasing the Type I error increases the probability of the Type II error._\n"
   ]
  },
  {
   "cell_type": "markdown",
   "metadata": {},
   "source": [
    "### Statistical Power\n"
   ]
  },
  {
   "cell_type": "markdown",
   "metadata": {},
   "source": [
    "[**Power**](https://en.wikipedia.org/wiki/Statistical_power), also called the **sensitivity**, is the probability of correctly rejecting a false $H_0$; It is equal to $1 - \\beta$.\n",
    "\n",
    "Two key things impact statistical power:\n",
    "+ the **effect size**: a large difference between groups is easier to detect.\n",
    "+ the **sample size**: it directly impacts the test statistic and the p-value.\n",
    "\n",
    "Given the variance of data $\\sigma$ and the minimum difference to detect $\\delta$, a typical formula to assess [sample size](https://en.wikipedia.org/wiki/Sample_size_determination) is:\n",
    "\n",
    "$$N = (z_\\alpha + z_\\beta)^2 \\times \\frac{\\sigma^2}{\\delta^2}$$\n",
    "\n",
    "Where $z_\\alpha$ and $z_\\beta$ are the z-score of $\\alpha$ and $\\beta$, respectively. "
   ]
  },
  {
   "cell_type": "markdown",
   "metadata": {},
   "source": []
  },
  {
   "cell_type": "markdown",
   "metadata": {},
   "source": [
    "___"
   ]
  },
  {
   "cell_type": "markdown",
   "metadata": {},
   "source": [
    "Choosing a [statistical test](http://www.biostathandbook.com/) depends on:\n",
    "+ what hypothesis is tested.\n",
    "+ the type of the variable of interest & its probability distribution.\n"
   ]
  },
  {
   "cell_type": "markdown",
   "metadata": {},
   "source": [
    "The population variable can take many values that are more or less likely to happen. This **probability distribution** has a numerical feature of interest called a **parameter**. The data we collect is **randomly generated** from this probability distribution. \n",
    "\n",
    "We draw our conclusions about the parameter from the sample **statistic**. Three important limitations:\n",
    "+ Because a sample is only part of the population, the numerical value of the statistic will not be the exact value of the parameter.\n",
    "+ The observed value of the statistic depends on the particular sample selected.\n",
    "+ Some variability in the values of a statistic, over different samples, is unavoidable."
   ]
  },
  {
   "cell_type": "markdown",
   "metadata": {},
   "source": [
    "A reasonably sized random sample (around 30 members) will almost always reflect the population. "
   ]
  },
  {
   "cell_type": "markdown",
   "metadata": {},
   "source": []
  },
  {
   "cell_type": "markdown",
   "metadata": {},
   "source": []
  },
  {
   "cell_type": "markdown",
   "metadata": {},
   "source": []
  },
  {
   "cell_type": "markdown",
   "metadata": {},
   "source": []
  }
 ],
 "metadata": {
  "kernelspec": {
   "display_name": "Python 3",
   "language": "python",
   "name": "python3"
  },
  "language_info": {
   "codemirror_mode": {
    "name": "ipython",
    "version": 3
   },
   "file_extension": ".py",
   "mimetype": "text/x-python",
   "name": "python",
   "nbconvert_exporter": "python",
   "pygments_lexer": "ipython3",
   "version": "3.8.0"
  },
  "toc": {
   "base_numbering": 1,
   "nav_menu": {},
   "number_sections": false,
   "sideBar": true,
   "skip_h1_title": false,
   "title_cell": "Table of Contents",
   "title_sidebar": "Contents",
   "toc_cell": false,
   "toc_position": {
    "height": "calc(100% - 180px)",
    "left": "10px",
    "top": "150px",
    "width": "231px"
   },
   "toc_section_display": true,
   "toc_window_display": true
  }
 },
 "nbformat": 4,
 "nbformat_minor": 4
}
