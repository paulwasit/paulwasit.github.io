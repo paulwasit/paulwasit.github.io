{
 "metadata": {
  "language_info": {
   "codemirror_mode": {
    "name": "ipython",
    "version": 3
   },
   "file_extension": ".py",
   "mimetype": "text/x-python",
   "name": "python",
   "nbconvert_exporter": "python",
   "pygments_lexer": "ipython3",
   "version": 3
  },
  "orig_nbformat": 2
 },
 "nbformat": 4,
 "nbformat_minor": 2,
 "cells": [
  {
   "cell_type": "markdown",
   "metadata": {},
   "source": [
    "# Central Limit Theorem\n"
   ]
  },
  {
   "cell_type": "markdown",
   "metadata": {},
   "source": [
    "The Central Limit Theorem states that the sampling distribution of sample means tends toward a normal distribution when the sample size increases, even when the data itself is not normally distributed.\n",
    "\n",
    "More formally, let $X_{1},\\ldots ,X_{n}$ be a sequence of $n$ independent and identically distributed (i.i.d.) random variables drawn from a distribution of expected value $\\mu$ and finite variance $\\sigma ^{2}$. Its mean follows a normal distribution $N(\\mu ,s^{2})$ when $n$ is large, where $s$ is called the the standard error of the mean (SEM).\n",
    "\n",
    "The SEM is the standard deviation of the sampling distribution of the mean. It is linked to $\\sigma ^{2}$ and decreases as the sample size increases: $s^{2} = \\sigma ^{2} / n$.\n",
    "\n",
    "In other words: \n",
    "\n",
    "$${\\frac {{\\bar {X}}-\\mu }{\\sigma /{\\sqrt {n}}}} \\sim N(0, 1)$$\n"
   ]
  },
  {
   "cell_type": "markdown",
   "metadata": {},
   "source": [
    "In practice, the population variance is rarely known. We can substitute the unbiased sample variance $\\widehat {\\sigma}^2$ instead. In this case, the random variable t follows a t-distribution with $n-1$ degrees of freedom:\n",
    "\n",
    "$${\\frac {{\\bar {X}}-\\mu }{{\\widehat {\\sigma }}/{\\sqrt {n}}}} \\sim t(ddof = n- 1)$$\n",
    "\n",
    "Small samples are more likely to underestimate $\\sigma$ and have a mean that differs from $\\mu$. The Student t-distribution accounts for these with heavier tails compared to a Gaussian: extreme values become more likely."
   ]
  },
  {
   "cell_type": "markdown",
   "metadata": {},
   "source": [
    "# T-test\n"
   ]
  },
  {
   "cell_type": "code",
   "execution_count": null,
   "metadata": {},
   "outputs": [],
   "source": []
  }
 ]
}