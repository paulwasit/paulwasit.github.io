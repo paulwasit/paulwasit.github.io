{
 "cells": [
  {
   "cell_type": "markdown",
   "metadata": {},
   "source": [
    "# Introduction"
   ]
  },
  {
   "cell_type": "markdown",
   "metadata": {},
   "source": [
    "> The goal of statistical inference is to make **generalizations about the population** when **only a sample is available**."
   ]
  },
  {
   "cell_type": "markdown",
   "metadata": {},
   "source": [
    "___\n",
    "\n",
    "# Selecting a test"
   ]
  },
  {
   "cell_type": "markdown",
   "metadata": {},
   "source": [
    "Identifying wich test to use starts with two questions:\n",
    "+ how many categories of population do you have (example: male vs female, three different trial groups)\n",
    "+ what is the type of the variable to analyze: nominal, measurement or ranked"
   ]
  },
  {
   "cell_type": "markdown",
   "metadata": {},
   "source": [
    "Note: \n",
    "+ Z-tests for mean serve the same purpose as ANOVA\n",
    "+ Z-tests for proportions serve the same purpose as chi-square tests\n",
    "\n",
    "Both tests compare a sample to a given population. Formally, the population SD needs to be known, but we can use a t-test with the sample standard deviation if not."
   ]
  },
  {
   "cell_type": "markdown",
   "metadata": {},
   "source": [
    "Additional information can be found [here](http://www.biostathandbook.com/)."
   ]
  },
  {
   "cell_type": "markdown",
   "metadata": {},
   "source": [
    "### T-test & ANOVA"
   ]
  },
  {
   "cell_type": "markdown",
   "metadata": {},
   "source": [
    "The variable to analyze is **measurement**: you want to compare the **mean** among categories.\n",
    "+ **T-test** for roughly Gaussian-distributed data; the test statistic follows a **t-distribution**. \n",
    "    + only one measurement variable\n",
    "    + only one or two samples _(note: for one-sample, you will test against a number that needs to be known beforehand)_\n",
    "    + both one-tail and two-tailed alternate hypothesis are possible\n",
    "+ **ANOVA** for roughly Gaussian-distributed data; the test statistic follows an **F-distribution**. \n",
    "    + one-way ANOVA when only one measurement variable\n",
    "    + N-ways otherwise\n",
    "    + The only alternate hypothesis is that the different categories have different means.\n",
    "+ **non-parametric** tests otherwise _(typically with less assumptions so less statistical power)_"
   ]
  },
  {
   "cell_type": "markdown",
   "metadata": {},
   "source": [
    "### Chi-Square"
   ]
  },
  {
   "cell_type": "markdown",
   "metadata": {},
   "source": [
    "The variable to analyze is **nominal**: you want to compare the **frequencies** among categories.\n",
    "+ **Chi-Square** test; the test statistic follows a **Chi-Square distribution**.\n",
    "    + One-way when the nominal variable only has one value (ex: repartition of patient discharges per day of the week)\n",
    "    + Two-way otherwise: test of independance or conformity (ex: comparing proportion among population categories)\n",
    "    + The only alternate hypothesis is that the different categories have different frequencies.\n",
    "+ **Fisher's exact test** if the sample size is small"
   ]
  },
  {
   "cell_type": "markdown",
   "metadata": {},
   "source": [
    "### Kruskal–Wallis"
   ]
  },
  {
   "cell_type": "markdown",
   "metadata": {},
   "source": [
    "The variable to analyze is **ranked**: you want to compare the **ranks** among categories.\n",
    "+ **Kruskal–Wallis** test"
   ]
  },
  {
   "cell_type": "markdown",
   "metadata": {},
   "source": [
    "### Bonferroni Corrections"
   ]
  },
  {
   "cell_type": "markdown",
   "metadata": {},
   "source": [
    "The chance of capturing rare event increases when testing multiple hypothesis. It means the likelihood of incorrectly rejecting a null hypothesis (false positive) increases. \n",
    "\n",
    "The Bonferroni correction rejects the null hypothesis for each $p_{i} \\leq \\frac {\\alpha}{m}$. This ensures the [Family Wise Error Rate](https://en.wikipedia.org/wiki/Family-wise_error_rate) stays below the significance level $\\alpha$. More information can be found [here](https://stats.stackexchange.com/questions/153122/bonferroni-correction-for-post-hoc-analysis-in-anova-regression).\n",
    "\n",
    "It is useful for post-hoc tests after performing one-way ANOVA or Chi-Square tests that reject the null hypothesis. When comparing $N$ multiple groups, we can either do:\n",
    "+ pairwise tesing. In that case, $m$ will be ${N \\choose 2}$.\n",
    "+ one vs the rest. In that case, $m$ will be $N$."
   ]
  },
  {
   "cell_type": "markdown",
   "metadata": {},
   "source": [
    "___\n",
    "\n",
    "## Z-tests"
   ]
  },
  {
   "cell_type": "markdown",
   "metadata": {},
   "source": [
    "### Mean Tests"
   ]
  },
  {
   "cell_type": "markdown",
   "metadata": {},
   "source": [
    "A **mean test** look for a specific value, typically the average of a population parameter. Its null hypothesis states that $\\mu = \\mu_0$.\n",
    "\n",
    "+ According to the CLT, the mean of our sample is part of a normal distribution centered around its population mean\n",
    "+ The null hypothesis states that the sample belongs to the initial population\n",
    "\n",
    "It means that we can calculate the position of the sample mean in the sampling distribution that follows $H_0$, provided we know the population standard deviation (see formula in code). \n",
    "\n",
    "We calculate its p-value based on the alternate hypothesis to draw our conclusions."
   ]
  },
  {
   "cell_type": "code",
   "execution_count": 47,
   "metadata": {},
   "outputs": [
    {
     "name": "stdout",
     "output_type": "stream",
     "text": [
      "p-value: 1.2% > 1% cutoff\n"
     ]
    }
   ],
   "source": [
    "# example: test if a website redesign improved load time. H0: old_load >= new_load, alpha = 0.01\n",
    "# old_load_mean = 3.125, old_load_sd = 0.700\n",
    "# new_load_mean = 2.875, new_load_sample_size = 40\n",
    "# the sample mean of new_load_mean under H0 is in the 1.2% percentile, outside of our cutoff area: we fail to reject H0\n",
    "\n",
    "import numpy as np\n",
    "from scipy.stats import norm\n",
    "z_score = (2.875 - 3.125) / (0.700 / np.sqrt(40))\n",
    "print('p-value: {:.1%} > 1% cutoff'.format(norm.cdf(x=z_score)))"
   ]
  },
  {
   "cell_type": "markdown",
   "metadata": {},
   "source": [
    "### Proportion tests"
   ]
  },
  {
   "cell_type": "markdown",
   "metadata": {},
   "source": [
    "A **proportion test** looks for a share of a population that have a specific trait. We assume that the population follows a binomial distribution with a probability $p_0$ of having a given trait, and the sample has a measured probability $\\hat{p}$.\n",
    "\n",
    "It also leverages the CLT, with the following tweaks:\n",
    "+ proportions are equal to $\\hat{p} - p_0$\n",
    "+ population variance equals $p_0 \\times(1 - p_0)$ according to the binomial distribution"
   ]
  },
  {
   "cell_type": "code",
   "execution_count": 53,
   "metadata": {},
   "outputs": [
    {
     "name": "stdout",
     "output_type": "stream",
     "text": [
      "p-value: 0.1% < 5% cutoff\n"
     ]
    }
   ],
   "source": [
    "# example: test if most customers of a website are teenagers. H0: teen_proportion <= 0.5 \n",
    "# sample_teen_proportion = 0.58, sample_size = 400\n",
    "# H0_teen_proportion = 0.5, HO_variance = sample_size * H0_teen_proportion * (1 - H0_teen_proportion)\n",
    "\n",
    "# the sample_teen_proportion under H0 is in the 99.9% percentile, inside our cutoff area: we reject H0\n",
    "\n",
    "import numpy as np\n",
    "from scipy.stats import norm\n",
    "z_score = (0.58 - 0.5) / (np.sqrt(0.5 * (1 - 0.5)) / np.sqrt(400))\n",
    "print('p-value: {:.1%} < 5% cutoff'.format(norm.sf(x=z_score))) # right-tail so survival function = 1 - cdf"
   ]
  },
  {
   "cell_type": "markdown",
   "metadata": {},
   "source": [
    "___\n",
    "\n",
    "## T-tests"
   ]
  },
  {
   "cell_type": "markdown",
   "metadata": {},
   "source": [
    "### Assumptions"
   ]
  },
  {
   "cell_type": "markdown",
   "metadata": {},
   "source": [
    "The CLT and Z-scores assume **we know the population standard deviation**. Using them does not work when:\n",
    "\n",
    "+ **$\\sigma$ is unknown**\n",
    "+ the sample size **$n$ is small**\n",
    "\n",
    "We can substitute the normal distribution with the [Student’s t distribution](https://en.wikipedia.org/wiki/Student's_t-distribution) to represent the **sampling distribution** of the sample statistic when:\n",
    "\n",
    "+ the sample size **is large** (30+ observations), OR\n",
    "+ the **population** is roughly **normal** (very small samples)\n",
    "\n",
    "The tails of the Student Distribution are **thicker than normal** to reflect the **additional uncertainty** introduced by using the sample standard deviation. They get closer to the normal distribution as the degrees of freedom increase (ie. when the sample size increases).\n",
    "\n",
    "_Note: when the sample size is large (30+ observations), the Student Distribution becomes extremely close to the normal distribution._"
   ]
  },
  {
   "cell_type": "markdown",
   "metadata": {},
   "source": [
    "Notes:\n",
    "+ If the sample size is very small, we can use normal probability plots to check whether the sample may come from a normal distribution.\n",
    "+ If the t-distribution cannot be used, we can use more robust procedures like the one-sample [**Wilcoxon procedure**](https://en.wikipedia.org/wiki/Wilcoxon_signed-rank_test)."
   ]
  },
  {
   "cell_type": "markdown",
   "metadata": {},
   "source": [
    "### T-statistic"
   ]
  },
  {
   "cell_type": "markdown",
   "metadata": {},
   "source": [
    "A t-statistic will be larger (i.e. less likely to happen by chance) if:\n",
    "+ the compared statistic values are very different \n",
    "+ the pooled standard deviation is small, ie. the compared distributions do not overlap much\n",
    "+ the samples are large"
   ]
  },
  {
   "cell_type": "markdown",
   "metadata": {},
   "source": [
    "### Types of t-tests"
   ]
  },
  {
   "cell_type": "markdown",
   "metadata": {},
   "source": [
    "There are three main types of t-tests:\n",
    "+ **one-sample** t-test: check if a sample is part of a population\n",
    "+ **dependent paired-samples** t-test: check if the statistic of the same sample evolve over time\n",
    "+ **independent two-samples** t-test: check if two samples are part of the same population\n",
    "    + same sample size, equal variance\n",
    "    + different sample size, equal variance\n",
    "    + different variance (Welch's t-test)"
   ]
  },
  {
   "cell_type": "markdown",
   "metadata": {},
   "source": [
    "### One-sample"
   ]
  },
  {
   "cell_type": "code",
   "execution_count": 147,
   "metadata": {},
   "outputs": [
    {
     "data": {
      "text/plain": [
       "Ttest_1sampResult(statistic=-3.6923618691956284, pvalue=0.004979126870063981)"
      ]
     },
     "execution_count": 147,
     "metadata": {},
     "output_type": "execute_result"
    }
   ],
   "source": [
    "# we want to check if the following sample belongs to a population of mean 120\n",
    "from scipy import stats\n",
    "\n",
    "sample = [120.6,116.4,117.2,118.1,114.1,116.9,113.3,121.1,116.9,117.0]\n",
    "stats.ttest_1samp(sample, 120)"
   ]
  },
  {
   "cell_type": "markdown",
   "metadata": {},
   "source": [
    "### Independent two-samples"
   ]
  },
  {
   "cell_type": "markdown",
   "metadata": {},
   "source": [
    "We want to compare the productivity of two plants over the same 10 days:"
   ]
  },
  {
   "cell_type": "code",
   "execution_count": 58,
   "metadata": {},
   "outputs": [
    {
     "data": {
      "text/plain": [
       "Ttest_indResult(statistic=2.2795770510504845, pvalue=0.03504506467283038)"
      ]
     },
     "execution_count": 58,
     "metadata": {},
     "output_type": "execute_result"
    }
   ],
   "source": [
    "from scipy import stats\n",
    "\n",
    "# number of cars produced in the two plants over the same 10 days\n",
    "cars_plant1 = [1184, 1203, 1219, 1238, 1243, 1204, 1269, 1256, 1156, 1248]\n",
    "cars_plant2 = [1136, 1178, 1212, 1193, 1226, 1154, 1230, 1222, 1161, 1148]\n",
    "\n",
    "stats.ttest_ind(cars_plant1, cars_plant2, equal_var=False) # t > 0 and p/2 > 0.05 so plant1 performs significantly better"
   ]
  },
  {
   "cell_type": "markdown",
   "metadata": {},
   "source": [
    "___\n",
    "\n",
    "## ANOVA"
   ]
  },
  {
   "cell_type": "markdown",
   "metadata": {},
   "source": [
    "ANOVA allows us to:\n",
    "+ check if **more than two samples** belong to the same population.\n",
    "+ check if two samples come from populations that have the **same variance**."
   ]
  },
  {
   "cell_type": "markdown",
   "metadata": {},
   "source": [
    "### Assumptions"
   ]
  },
  {
   "cell_type": "markdown",
   "metadata": {},
   "source": [
    "The ANOVA is mathematically considered a [generalized linear model (GLM)](https://pythonfordatascience.org/anova-python/). It means that its assumptions are the same as for linear regression:\n",
    "\n",
    "+ Normality\n",
    "+ Homogeneity of variance\n",
    "+ Independent observations\n",
    "\n",
    "If group sizes are equal, the F-statistic is robust to violations of normality and homogeneity of variance. If these assumptions are not met, we can use either the Kruskal-Wallis H-test or the Welch’s ANOVA."
   ]
  },
  {
   "cell_type": "markdown",
   "metadata": {},
   "source": [
    "### F-distribution"
   ]
  },
  {
   "cell_type": "markdown",
   "metadata": {},
   "source": [
    "The [F-Distribution](https://www.geo.fu-berlin.de/en/v/soga/Basics-of-statistics/Continous-Random-Variables/F-Distribution/index.html) has two numbers of degrees of freedom: the denominator (sample size) and numerator (number of samples). "
   ]
  },
  {
   "cell_type": "code",
   "execution_count": 81,
   "metadata": {
    "scrolled": true
   },
   "outputs": [
    {
     "data": {
      "image/png": "[encoded data removed]",
      "text/plain": [
       "<Figure size 432x288 with 1 Axes>"
      ]
     },
     "metadata": {
      "needs_background": "light"
     },
     "output_type": "display_data"
    }
   ],
   "source": [
    "# example of F-distribution\n",
    "import numpy as np\n",
    "from scipy.stats import f\n",
    "import matplotlib.pyplot as plt\n",
    "\n",
    "# degrees of freedom\n",
    "dfn, dfd = 30, 8\n",
    "\n",
    "# 100 x points between the first and 99th percentile of the f-distribution & corresponding f values\n",
    "x = np.linspace(f.ppf(0.01, dfn, dfd), f.ppf(0.99, dfn, dfd), 100)\n",
    "y = f.pdf(x, dfn, dfd)\n",
    "\n",
    "# plot\n",
    "fig, ax = plt.subplots(1, 1)\n",
    "ax.plot(x, f.pdf(x, dfn, dfd), 'r-', lw=2, alpha=0.6, label='f pdf')\n",
    "plt.show()"
   ]
  },
  {
   "cell_type": "markdown",
   "metadata": {},
   "source": [
    "### F-value"
   ]
  },
  {
   "cell_type": "markdown",
   "metadata": {},
   "source": [
    "ANOVA compares two types of variance:\n",
    "\n",
    "+ between groups: how far group means stray from the total mean\n",
    "+ within groups: how far individual values stray from their respective group mean\n",
    "\n",
    "The **F-value** is the variance between groups divided by the variance within groups, where:\n",
    "\n",
    "+ the variance between groups equals the sum of squares group divided by the degrees of freedom (groups)\n",
    "+ the variance within groups equals the sum of squares errors divided by the degrees of freedom (error)\n",
    "\n",
    "The groups belong to the **same population** if the **variance between groups** (numerator) is **small** compared to the **variance within groups** (denominator)."
   ]
  },
  {
   "cell_type": "markdown",
   "metadata": {},
   "source": [
    "### One-way ANOVA"
   ]
  },
  {
   "cell_type": "code",
   "execution_count": 72,
   "metadata": {},
   "outputs": [
    {
     "data": {
      "text/plain": [
       "F_onewayResult(statistic=2.121212121212121, pvalue=0.16262315311926887)"
      ]
     },
     "execution_count": 72,
     "metadata": {},
     "output_type": "execute_result"
    }
   ],
   "source": [
    "# example: number of days each customer took to pay an invoice based on a percentage of discount if early payment\n",
    "disc_0p = [14, 11, 18, 16, 21]\n",
    "disc_1p = [21, 15, 23, 10, 16]\n",
    "disc_2p = [11, 16,  9, 14, 10]\n",
    "\n",
    "stats.f_oneway(disc_0p, disc_1p, disc_2p) # p-value > 0.05, the discounts make no significant difference"
   ]
  },
  {
   "cell_type": "markdown",
   "metadata": {},
   "source": [
    "### Two-way ANOVA"
   ]
  },
  {
   "cell_type": "markdown",
   "metadata": {},
   "source": [
    "The **two-way ANOVA** is an extension of the one-way ANOVA to test **two independant variables** at the same time, taking interactions between these variables into account. \n",
    "\n",
    "_Note: this can be further generalized to N-way ANOVA._"
   ]
  },
  {
   "cell_type": "code",
   "execution_count": 109,
   "metadata": {},
   "outputs": [
    {
     "data": {
      "text/html": [
       "<div>\n",
       "<style scoped>\n",
       "    .dataframe tbody tr th:only-of-type {\n",
       "        vertical-align: middle;\n",
       "    }\n",
       "\n",
       "    .dataframe tbody tr th {\n",
       "        vertical-align: top;\n",
       "    }\n",
       "\n",
       "    .dataframe thead th {\n",
       "        text-align: right;\n",
       "    }\n",
       "</style>\n",
       "<table border=\"1\" class=\"dataframe\">\n",
       "  <thead>\n",
       "    <tr style=\"text-align: right;\">\n",
       "      <th></th>\n",
       "      <th>sum_sq</th>\n",
       "      <th>df</th>\n",
       "      <th>F</th>\n",
       "      <th>PR(&gt;F)</th>\n",
       "    </tr>\n",
       "  </thead>\n",
       "  <tbody>\n",
       "    <tr>\n",
       "      <td>C(discount)</td>\n",
       "      <td>70.0</td>\n",
       "      <td>2.0</td>\n",
       "      <td>11.666667</td>\n",
       "      <td>0.004249</td>\n",
       "    </tr>\n",
       "    <tr>\n",
       "      <td>C(amount)</td>\n",
       "      <td>174.0</td>\n",
       "      <td>4.0</td>\n",
       "      <td>14.500000</td>\n",
       "      <td>0.000975</td>\n",
       "    </tr>\n",
       "    <tr>\n",
       "      <td>Residual</td>\n",
       "      <td>24.0</td>\n",
       "      <td>8.0</td>\n",
       "      <td>NaN</td>\n",
       "      <td>NaN</td>\n",
       "    </tr>\n",
       "  </tbody>\n",
       "</table>\n",
       "</div>"
      ],
      "text/plain": [
       "             sum_sq   df          F    PR(>F)\n",
       "C(discount)    70.0  2.0  11.666667  0.004249\n",
       "C(amount)     174.0  4.0  14.500000  0.000975\n",
       "Residual       24.0  8.0        NaN       NaN"
      ]
     },
     "execution_count": 109,
     "metadata": {},
     "output_type": "execute_result"
    }
   ],
   "source": [
    "import pandas as pd\n",
    "from statsmodels.formula.api import ols\n",
    "import statsmodels as sm\n",
    "\n",
    "# data - same as before, but checking if the amount has an impact\n",
    "df = pd.DataFrame({\n",
    "    'discount': ['2p','2p','2p','2p','2p','1p','1p','1p','1p','1p','0p','0p','0p','0p','0p'],\n",
    "    'amount': [50,100,150,200,250,50,100,150,200,250,50,100,150,200,250],\n",
    "    'days': [16,14,11,10,9,23,21,16,15,10,21,16,18,14,11]\n",
    "})\n",
    "\n",
    "\n",
    "# fit without interaction factor\n",
    "model = ols('days ~ C(discount) + C(amount)', df).fit()\n",
    "\n",
    "# discount has now become significant\n",
    "sm.api.stats.anova_lm(model, typ=2)\n",
    "\n",
    "# model.summary()"
   ]
  },
  {
   "cell_type": "markdown",
   "metadata": {},
   "source": [
    "Note on `model.summary()`:\n",
    "+ Durban-Watson detects the presence of autocorrelation\n",
    "+ Jarque-Bera tests the assumption of normality\n",
    "+ Omnibus tests the assumption of homogeneity of variance\n",
    "+ Condition Number assess multicollinearity (should be < 20)"
   ]
  },
  {
   "cell_type": "code",
   "execution_count": 112,
   "metadata": {},
   "outputs": [
    {
     "data": {
      "text/html": [
       "<div>\n",
       "<style scoped>\n",
       "    .dataframe tbody tr th:only-of-type {\n",
       "        vertical-align: middle;\n",
       "    }\n",
       "\n",
       "    .dataframe tbody tr th {\n",
       "        vertical-align: top;\n",
       "    }\n",
       "\n",
       "    .dataframe thead th {\n",
       "        text-align: right;\n",
       "    }\n",
       "</style>\n",
       "<table border=\"1\" class=\"dataframe\">\n",
       "  <thead>\n",
       "    <tr style=\"text-align: right;\">\n",
       "      <th></th>\n",
       "      <th>sum_sq</th>\n",
       "      <th>df</th>\n",
       "      <th>F</th>\n",
       "      <th>PR(&gt;F)</th>\n",
       "    </tr>\n",
       "  </thead>\n",
       "  <tbody>\n",
       "    <tr>\n",
       "      <td>C(fertilizer)</td>\n",
       "      <td>12.0</td>\n",
       "      <td>2.0</td>\n",
       "      <td>1.44</td>\n",
       "      <td>0.275087</td>\n",
       "    </tr>\n",
       "    <tr>\n",
       "      <td>C(temperature)</td>\n",
       "      <td>18.0</td>\n",
       "      <td>1.0</td>\n",
       "      <td>4.32</td>\n",
       "      <td>0.059786</td>\n",
       "    </tr>\n",
       "    <tr>\n",
       "      <td>C(fertilizer):C(temperature)</td>\n",
       "      <td>84.0</td>\n",
       "      <td>2.0</td>\n",
       "      <td>10.08</td>\n",
       "      <td>0.002699</td>\n",
       "    </tr>\n",
       "    <tr>\n",
       "      <td>Residual</td>\n",
       "      <td>50.0</td>\n",
       "      <td>12.0</td>\n",
       "      <td>NaN</td>\n",
       "      <td>NaN</td>\n",
       "    </tr>\n",
       "  </tbody>\n",
       "</table>\n",
       "</div>"
      ],
      "text/plain": [
       "                              sum_sq    df      F    PR(>F)\n",
       "C(fertilizer)                   12.0   2.0   1.44  0.275087\n",
       "C(temperature)                  18.0   1.0   4.32  0.059786\n",
       "C(fertilizer):C(temperature)    84.0   2.0  10.08  0.002699\n",
       "Residual                        50.0  12.0    NaN       NaN"
      ]
     },
     "execution_count": 112,
     "metadata": {},
     "output_type": "execute_result"
    }
   ],
   "source": [
    "import pandas as pd\n",
    "from statsmodels.formula.api import ols\n",
    "import statsmodels as sm\n",
    "\n",
    "# data - three fertilizers, warm vs cold, size of plant\n",
    "df = pd.DataFrame({\n",
    "    'fertilizer': ['A','A','A','A','A','A','B','B','B','B','B','B','C','C','C','C','C','C'],\n",
    "    'temperature': ['W','W','W','C','C','C','W','W','W','C','C','C','W','W','W','C','C','C'],\n",
    "    'size': [13,14,12,16,18,17,21,19,17,14,11,14,18,15,15,15,13,8]\n",
    "})\n",
    "\n",
    "\n",
    "# fit with interaction factor\n",
    "model = ols('size ~ C(fertilizer) * C(temperature)', df).fit()\n",
    "\n",
    "# discount has now become significant\n",
    "sm.api.stats.anova_lm(model, typ=2)\n",
    "\n",
    "# model.summary()"
   ]
  },
  {
   "cell_type": "markdown",
   "metadata": {},
   "source": [
    "___\n",
    "\n",
    "## Chi-Square Analysis "
   ]
  },
  {
   "cell_type": "markdown",
   "metadata": {},
   "source": [
    "The [Chi-Square Analysis](https://docs.scipy.org/doc/scipy/reference/generated/scipy.stats.chisquare.html) determines the **probability of an observed frequency of events** given an expected frequency. If we get heads ten times in a row, how likely is it to happen if we assume the coin to be fair?\n",
    "\n",
    "$\\chi^2 = \\sum (O - E)^2 / E$ for each possible outcome of an experiment\n",
    "\n",
    "_Note: the expected value is not a probability._"
   ]
  },
  {
   "cell_type": "markdown",
   "metadata": {},
   "source": [
    "### Chi-Square Distribution"
   ]
  },
  {
   "cell_type": "markdown",
   "metadata": {},
   "source": [
    "The Chi-Square Distribution depends on its degrees of freedom, which are the number of possible outcomes minus one."
   ]
  },
  {
   "cell_type": "code",
   "execution_count": 132,
   "metadata": {},
   "outputs": [
    {
     "data": {
      "image/png": "[encoded data removed]",
      "text/plain": [
       "<Figure size 432x288 with 1 Axes>"
      ]
     },
     "metadata": {
      "needs_background": "light"
     },
     "output_type": "display_data"
    }
   ],
   "source": [
    "# example of Chi-Square-distribution\n",
    "import numpy as np\n",
    "from scipy.stats import chi2\n",
    "import matplotlib.pyplot as plt\n",
    "\n",
    "# plot\n",
    "fig, ax = plt.subplots(1, 1)\n",
    "\n",
    "# degrees of freedom\n",
    "for df in [3,4,5,6]:\n",
    "\n",
    "    # 100 x points between the first and 99th percentile of the f-distribution & corresponding f values\n",
    "    x = np.linspace(chi2.ppf(0.01, df), chi2.ppf(0.99, df), 100)\n",
    "    y = chi2.pdf(x, df)\n",
    "\n",
    "    ax.plot(x, y, lw=2, alpha=0.6)\n",
    "\n",
    "plt.show()"
   ]
  },
  {
   "cell_type": "markdown",
   "metadata": {},
   "source": [
    "### One-way Chi-Square"
   ]
  },
  {
   "cell_type": "markdown",
   "metadata": {},
   "source": [
    "We get 12 heads out of 18 coin tosses. Is the coin fair?"
   ]
  },
  {
   "cell_type": "code",
   "execution_count": 138,
   "metadata": {},
   "outputs": [
    {
     "data": {
      "text/plain": [
       "Power_divergenceResult(statistic=2.0, pvalue=0.15729920705028105)"
      ]
     },
     "execution_count": 138,
     "metadata": {},
     "output_type": "execute_result"
    }
   ],
   "source": [
    "# example: we get 12 heads out of 18 coin tosses. Is the coin fair?\n",
    "from scipy.stats import chisquare\n",
    "chisquare([6, 12], f_exp=[9,9]) # p-value is > 5%: we fail to reject the null hypothesis"
   ]
  },
  {
   "cell_type": "markdown",
   "metadata": {},
   "source": [
    " "
   ]
  },
  {
   "cell_type": "markdown",
   "metadata": {},
   "source": [
    "Our company has six server that should fail at the same rate. Is it true?\n",
    "\n",
    "In the example below, we have 240 failures. If the null hypothesis is true, the probability of failure should be the same for all the six servers: 1/6 or 40 failures per server. Let's test this: "
   ]
  },
  {
   "cell_type": "code",
   "execution_count": 149,
   "metadata": {},
   "outputs": [
    {
     "data": {
      "text/plain": [
       "Power_divergenceResult(statistic=10.0, pvalue=0.07523524614651217)"
      ]
     },
     "execution_count": 149,
     "metadata": {},
     "output_type": "execute_result"
    }
   ],
   "source": [
    "import numpy as np\n",
    "from scipy.stats import chisquare\n",
    "\n",
    "obs_failures = [46,36,52,26,42,38]\n",
    "mean_failure = np.mean(obs_failures)\n",
    "\n",
    "chisquare(obs_failures, f_exp=mean_failure) # p-value is > 5%: we fail to reject the null hypothesis"
   ]
  },
  {
   "cell_type": "markdown",
   "metadata": {},
   "source": [
    "Are most customers of a website teenagers?\n",
    "\n",
    "In the example below, we have a sample of 400 visitors, 58% of which are teenagers. If the null hypothesis is true, the probability of having teenagers is 50% or less."
   ]
  },
  {
   "cell_type": "code",
   "execution_count": 148,
   "metadata": {},
   "outputs": [
    {
     "data": {
      "text/plain": [
       "Power_divergenceResult(statistic=10.24, pvalue=0.0013742758758316976)"
      ]
     },
     "execution_count": 148,
     "metadata": {},
     "output_type": "execute_result"
    }
   ],
   "source": [
    "import numpy as np\n",
    "from scipy.stats import chisquare\n",
    "\n",
    "obs_values = [232, 400 - 232]\n",
    "exp_values = [200, 200]\n",
    "\n",
    "chisquare(obs_values, f_exp=exp_values) # p-value is < 5%: we reject the null hypothesis"
   ]
  },
  {
   "cell_type": "markdown",
   "metadata": {},
   "source": [
    "###  Two-way Chi-Square"
   ]
  },
  {
   "cell_type": "markdown",
   "metadata": {},
   "source": [
    "Suppose there is a city of 1,000,000 residents with four neighborhoods: $A$, $B$, $C$, and $D$. A random sample of 650 residents of the city is taken and their occupation is recorded as \"white collar\", \"blue collar\", or \"no collar\". \n",
    "\n",
    "|                | $A$   | $B$   | $C$   | $D$   | **Total** |\n",
    "|----------------|-------|-------|-------|-------|-----------|\n",
    "|White Collar    |  90   |  60   | 104   |  95   |  **349**  |\n",
    "|Blue Collar     |  30   |  50   |  51   |  20   |  **151**  |\n",
    "|No Collar       |  30   |  40   |  45   |  35   |  **150**  |\n",
    "|**Total**       |**150**|**150**|**200**|**150**|  **650**  |\n",
    "\n",
    "\n",
    "The null hypothesis is that each person's neighborhood of residence is independent of the person's occupational classification. By the assumption of independence under the hypothesis we should \"expect\" the number of white-collar workers in neighborhood $A$ to be:\n",
    "\n",
    "$WC_A = 150\\times\\frac{349}{650} \\approx 80.54$\n",
    "\n",
    "So the contribution of this cell to $\\chi^2$ is $\\frac{(90 - 80.54)^2}{80.54} \\approx 1.11$\n",
    "\n",
    "The sum of these quantities over all of the cells is the test statistic; in this case, $\\approx 24.6$.  Under the null hypothesis, this sum has approximately a chi-squared distribution whose number of degrees of freedom are:\n",
    "\n",
    "$(\\text{number of rows}-1)(\\text{number of columns}-1) = (3-1)(4-1) = 6$\n",
    "\n",
    "If the test statistic is improbably large according to that chi-squared distribution, then one rejects the null hypothesis of 'independence'. In this example, the neighborhood and occupation are linked."
   ]
  },
  {
   "cell_type": "code",
   "execution_count": 145,
   "metadata": {},
   "outputs": [
    {
     "data": {
      "text/html": [
       "<div>\n",
       "<style scoped>\n",
       "    .dataframe tbody tr th:only-of-type {\n",
       "        vertical-align: middle;\n",
       "    }\n",
       "\n",
       "    .dataframe tbody tr th {\n",
       "        vertical-align: top;\n",
       "    }\n",
       "\n",
       "    .dataframe thead th {\n",
       "        text-align: right;\n",
       "    }\n",
       "</style>\n",
       "<table border=\"1\" class=\"dataframe\">\n",
       "  <thead>\n",
       "    <tr style=\"text-align: right;\">\n",
       "      <th></th>\n",
       "      <th>A</th>\n",
       "      <th>B</th>\n",
       "      <th>C</th>\n",
       "      <th>D</th>\n",
       "    </tr>\n",
       "  </thead>\n",
       "  <tbody>\n",
       "    <tr>\n",
       "      <td>White Collar</td>\n",
       "      <td>90</td>\n",
       "      <td>60</td>\n",
       "      <td>104</td>\n",
       "      <td>95</td>\n",
       "    </tr>\n",
       "    <tr>\n",
       "      <td>Blue Collar</td>\n",
       "      <td>30</td>\n",
       "      <td>50</td>\n",
       "      <td>51</td>\n",
       "      <td>20</td>\n",
       "    </tr>\n",
       "    <tr>\n",
       "      <td>No Collar</td>\n",
       "      <td>30</td>\n",
       "      <td>40</td>\n",
       "      <td>45</td>\n",
       "      <td>35</td>\n",
       "    </tr>\n",
       "  </tbody>\n",
       "</table>\n",
       "</div>"
      ],
      "text/plain": [
       "               A   B    C   D\n",
       "White Collar  90  60  104  95\n",
       "Blue Collar   30  50   51  20\n",
       "No Collar     30  40   45  35"
      ]
     },
     "metadata": {},
     "output_type": "display_data"
    },
    {
     "name": "stdout",
     "output_type": "stream",
     "text": [
      "Chi-Square test: 24.6 - p-value: 0.00041\n"
     ]
    }
   ],
   "source": [
    "import pandas as pd\n",
    "import scipy.stats as stats\n",
    "\n",
    "df = pd.DataFrame({\n",
    "    'A': [ 90,30,30], \n",
    "    'B': [ 60,50,40], \n",
    "    'C': [104,51,45], \n",
    "    'D': [ 95,20,35]}, index=['White Collar', 'Blue Collar', 'No Collar']\n",
    ")\n",
    "\n",
    "display(df)\n",
    "\n",
    "chi2, p, _, _ = stats.chi2_contingency(df)\n",
    "print('Chi-Square test: {:.3} - p-value: {:.3}'.format(chi2, p)) # we reject the null hypothesis of independence"
   ]
  },
  {
   "cell_type": "markdown",
   "metadata": {},
   "source": [
    "Another example: is the proportion of kids taking swimming lessons depend on their ethnicity:\n",
    "+ 247 Black kids. 36.8% take swimming lessons\n",
    "+ 308 Hispanic kids. 38.9% take swimming lessons\n",
    "\n",
    "The null hypothesis is that the proportion of kids taking swimming lessons does not depend on their ethnicity."
   ]
  },
  {
   "cell_type": "code",
   "execution_count": 146,
   "metadata": {},
   "outputs": [
    {
     "data": {
      "text/html": [
       "<div>\n",
       "<style scoped>\n",
       "    .dataframe tbody tr th:only-of-type {\n",
       "        vertical-align: middle;\n",
       "    }\n",
       "\n",
       "    .dataframe tbody tr th {\n",
       "        vertical-align: top;\n",
       "    }\n",
       "\n",
       "    .dataframe thead th {\n",
       "        text-align: right;\n",
       "    }\n",
       "</style>\n",
       "<table border=\"1\" class=\"dataframe\">\n",
       "  <thead>\n",
       "    <tr style=\"text-align: right;\">\n",
       "      <th></th>\n",
       "      <th>black</th>\n",
       "      <th>hisp</th>\n",
       "    </tr>\n",
       "  </thead>\n",
       "  <tbody>\n",
       "    <tr>\n",
       "      <td>Swim</td>\n",
       "      <td>91</td>\n",
       "      <td>120</td>\n",
       "    </tr>\n",
       "    <tr>\n",
       "      <td>No Swim</td>\n",
       "      <td>156</td>\n",
       "      <td>188</td>\n",
       "    </tr>\n",
       "  </tbody>\n",
       "</table>\n",
       "</div>"
      ],
      "text/plain": [
       "         black  hisp\n",
       "Swim        91   120\n",
       "No Swim    156   188"
      ]
     },
     "metadata": {},
     "output_type": "display_data"
    },
    {
     "name": "stdout",
     "output_type": "stream",
     "text": [
      "Chi-Square test: 0.179 - p-value: 0.672\n"
     ]
    }
   ],
   "source": [
    "# contingency matrix\n",
    "df = pd.DataFrame({'black': [91, 156], 'hisp': [120, 188]}, index=['Swim', 'No Swim'])\n",
    "display(df)\n",
    "\n",
    "chi2, p, _, _ = stats.chi2_contingency(df)\n",
    "print('Chi-Square test: {:.3} - p-value: {:.3}'.format(chi2, p)) # we fail to reject the null hypothesis of independence"
   ]
  }
 ],
 "metadata": {
  "kernelspec": {
   "display_name": "Python 3",
   "language": "python",
   "name": "python3"
  },
  "language_info": {
   "codemirror_mode": {
    "name": "ipython",
    "version": 3
   },
   "file_extension": ".py",
   "mimetype": "text/x-python",
   "name": "python",
   "nbconvert_exporter": "python",
   "pygments_lexer": "ipython3",
   "version": "3.7.4"
  },
  "toc": {
   "base_numbering": 1,
   "nav_menu": {},
   "number_sections": false,
   "sideBar": true,
   "skip_h1_title": false,
   "title_cell": "Table of Contents",
   "title_sidebar": "Contents",
   "toc_cell": false,
   "toc_position": {
    "height": "925px",
    "left": "1655px",
    "top": "110px",
    "width": "285px"
   },
   "toc_section_display": true,
   "toc_window_display": true
  }
 },
 "nbformat": 4,
 "nbformat_minor": 2
}
