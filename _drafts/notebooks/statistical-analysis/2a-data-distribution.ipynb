{
 "cells": [
  {
   "source": [
    "___\n",
    "\n",
    "# PROBABILITY DISTRIBUTION\n",
    "\n",
    "We leverage several kinds of data to do statistical analysis: categorical and numerical variables.\n",
    "\n",
    "## Categorical Variables\n",
    "+ nominal: cannot be sorted (flavors of ice cream).\n",
    "+ ordinal: can be sorted; lack scale (survey responses).\n",
    "\n",
    "\n",
    "## Numerical Variables\n",
    "+ discrete: can only take certain values (dice roll, population).\n",
    "+ continuous: can take any value within a range (age, height).\n",
    "\n",
    "\n",
    "The [probability distribution](https://en.wikipedia.org/wiki/Probability_distribution) of a random variable X tells what the possible values of X are and what probability each value has.\n",
    "\n",
    "\n",
    "## PMF and PDF\n",
    "\n",
    "For numerical variables:\n",
    "+ **discrete**: probability of being exactly equal to some value. The sum of all probabilities is one. Its probability distribution is called the **Probability Mass Function**.\n",
    "+ **continuous**: probability of falling within any interval of values. The area under the probability curve is equal to one. Its probability distribution is called the **Probability Density Function**.\n",
    "\n",
    "\n",
    "## CDF\n",
    "\n",
    "The [Cumulative Distribution Function](https://en.wikipedia.org/wiki/Cumulative_distribution_function) is the probability that a random variable X takes a value less than or equal to x. It is the cumulative sum (or integral) of the probability distribution.\n"
   ],
   "cell_type": "markdown",
   "metadata": {}
  },
  {
   "source": [
    "___\n",
    "\n",
    "# PARAMETERS OF INTEREST\n",
    "\n",
    "It is often interesting to summarize the **probability distribution** with a few numerical features of interest: the population **parameters**. \n",
    "\n",
    "Numerical data are typically associated with their:\n",
    "\n",
    "+ **Central Tendency**: average value a variable can take.\n",
    "+ **Dispersion**: spread from the average.\n",
    "\n",
    "There are three main methods to measure central tendency and dispersion:\n",
    "+ mode.\n",
    "+ mean and standard deviation.\n",
    "+ median and interquartile range.\n",
    "\n",
    "<img src=\"https://sebastienplat.s3.amazonaws.com/e4b73954b4944120752f1082b78ed3cc1489605907921\" alt=\"drawing\" width=\"600px\"/>\n"
   ],
   "cell_type": "markdown",
   "metadata": {}
  },
  {
   "source": [
    "## Mode\n",
    "\n",
    "The mode of a distribution is the value that appears most often in a set of data values. For discrete variables, this is the most likely value to be sampled, i.e. where the PMF takes its maximal value.\n",
    "\n",
    "For continuous variables, where no two values will be exactly the same, the concept cannot be utilized in its raw form. Histograms or kernel density estimates, covered in the next section, can provide an estimate of the mode.\n"
   ],
   "cell_type": "markdown",
   "metadata": {}
  },
  {
   "source": [
    "## Mean and Standard Deviation\n",
    "\n",
    "+ mean: average value; sensitive to outliers.\n",
    "+ variance: average squared distance from the mean; emphasis on higher distances.\n",
    "+ standard deviation: square root of variance; same unit as the measure itself.\n"
   ],
   "cell_type": "markdown",
   "metadata": {}
  },
  {
   "source": [
    "## Median and IQR\n",
    "\n",
    "+ median: middle value of the ordered data; insensitive to outliers. Half of the possible values are on its left and half on its right.\n",
    "+ range: maximum - minimum; extremely sensitive to outliers.\n",
    "+ interquartile range (IQR): difference between the third and first quartile.\n",
    "\n",
    "**Quartiles** divide a rank-ordered data set into four parts of equal size; each value has a 25% probability of falling into each quartile. The **Interquartile range (IQR)** is equal to Q3 minus Q1. This is why it is sometimes called the midspread or **middle 50%**. Q2 is the median.\n",
    "\n",
    "_Note: The median is not skewed much by extremely large or small values. So it may give a better idea of a 'typical' value than the mean. This is also why it is considered a [**robust statistic**](https://en.wikipedia.org/wiki/Robust_statistics)._\n"
   ],
   "cell_type": "markdown",
   "metadata": {}
  },
  {
   "source": [
    "___\n",
    "\n",
    "# MODES, SKEWNESS, KURTOSIS\n",
    "\n",
    "A few terms exist to describe the overall shape of a probability distribution: modes, skewness and kurtosis.\n",
    "\n",
    "## Unimodality\n",
    "\n",
    "The peaks of a probability distribution (i.e. local maxima) are called modes (not to be confused with the mode defined in the previous section). A variable with only one mode (or peak) is called unimodal. If the probability distribution has more than one mode, the variable is called multimodal. \n",
    "\n",
    "Here is an example of bimodal distribution; the largest peak is the mode of the probability distribution, i.e. the value most likely to occur. \n",
    "\n",
    "<img src=\"https://upload.wikimedia.org/wikipedia/commons/b/bc/Bimodal_geological.PNG\" alt=\"drawing\" width=\"300px\"/>\n",
    "\n",
    "\n",
    "## Skewness\n",
    "\n",
    "Skewness measures the asymmetry of a probability distribution about its mean. For a unimodal distribution:\n",
    "+ negative skew (left-skewed): the tail is on the left side of the distribution; usually appears as a right-leaning curve.\n",
    "+ positive skew (right-skewed): the tail is on the right.\n",
    "\n",
    "![missing](https://upload.wikimedia.org/wikipedia/commons/f/f8/Negative_and_positive_skew_diagrams_%28English%29.svg)\n",
    "\n",
    "It is important to note that a distribution with zero skewness is not always symmetrical (an example of such distribution can be found [here](https://en.wikipedia.org/wiki/Skewness#/media/File:Asymmetric_Distribution_with_Zero_Skewness.jpg)).\n",
    "\n",
    "\n",
    "## Kurtosis\n",
    "\n",
    "The kurtosis measures the likelihood of outliers:\n",
    "+ low kurtosis: the distribution produces fewer and less extreme outliers.\n",
    "+ high kurtosis: the distribution produces more outliers.\n",
    "\n",
    "A distribution with high kurtosis will have lower probabilities around the mean and [heavier tails](https://en.wikipedia.org/wiki/Heavy-tailed_distribution).\n",
    "\n",
    "_Note: for a given distribution, the kurtosis can never be smaller than the squared skewness plus one._\n",
    "\n",
    "![missing](../../img/kurtosis.png)\n"
   ],
   "cell_type": "markdown",
   "metadata": {}
  }
 ],
 "metadata": {
  "kernelspec": {
   "display_name": "Python 3.8.0 32-bit",
   "name": "python38032bit64a64ed7a47843b8be3706a54e9a0958",
   "language": "python"
  },
  "language_info": {
   "codemirror_mode": {
    "name": "ipython",
    "version": 3
   },
   "file_extension": ".py",
   "mimetype": "text/x-python",
   "name": "python",
   "nbconvert_exporter": "python",
   "pygments_lexer": "ipython3",
   "version": "3.8.0-final"
  },
  "orig_nbformat": 2
 },
 "nbformat": 4,
 "nbformat_minor": 2
}