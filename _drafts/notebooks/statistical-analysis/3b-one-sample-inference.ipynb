{
 "metadata": {
  "language_info": {
   "codemirror_mode": {
    "name": "ipython",
    "version": 3
   },
   "file_extension": ".py",
   "mimetype": "text/x-python",
   "name": "python",
   "nbconvert_exporter": "python",
   "pygments_lexer": "ipython3",
   "version": "3.8.0-final"
  },
  "orig_nbformat": 2,
  "kernelspec": {
   "name": "python38032bit64a64ed7a47843b8be3706a54e9a0958",
   "display_name": "Python 3.8.0 32-bit",
   "language": "python"
  }
 },
 "nbformat": 4,
 "nbformat_minor": 2,
 "cells": [
  {
   "source": [
    "___\n",
    "\n",
    "# One-Sample T-Test\n",
    "\n",
    "The t-test is any statistical hypothesis test in which the test statistic follows a Student's t-distribution under the null hypothesis.\n",
    "\n",
    "A t-test is most commonly applied when the test statistic would follow a normal distribution if the value of a scaling term in the test statistic were known. When the scaling term is unknown and is replaced by an estimate based on the data, the test statistics (under certain conditions) follow a Student's t distribution. \n",
    "\n",
    "## One-sample t-test\n",
    "\n",
    "The null hypothesis $H_0$ states that the population mean is equal to a specified value $\\mu_0$. \n",
    "\n",
    "Our test statistic is \n",
    "$t={\\frac {{\\bar {X}}-\\mu_0 }{{\\widehat {\\sigma }}/{\\sqrt {n}}}}$\n",
    "where $\\bar {X}$ is the sample mean, $\\widehat {\\sigma}^2$ its variance and $n$ its size.\n",
    "\n",
    "Under the null hypothesis, the test statistic follows a $t$-distribution with $n-1$ degrees of freedom. \n",
    "\n"
   ],
   "cell_type": "markdown",
   "metadata": {}
  },
  {
   "source": [
    "___\n",
    "\n",
    "# TESTING THE NULL HYPOTHESIS\n",
    "\n",
    "We can formulate three possible **alternate hypotheses**:\n",
    "\n",
    "Test          | Left-tailed      | Two-sided          | Right-tailed        |\n",
    "-------------:|-----------------:|:------------------:|:-------------------:|\n",
    "One-sample    | $\\mu - \\mu_0 \\lt 0$  | $\\mu - \\mu_0 \\neq 0$   | $\\mu - \\mu_0 \\gt 0$     |\n",
    "Two-sample    | $\\mu_1 - \\mu_2 \\lt 0$  | $\\mu_1 - \\mu_2 \\neq 0$   | $\\mu_1 - \\mu_2 \\gt 0$     |\n",
    "\n",
    "We calculate the probability of observing the sample statistic $t^*$ under $H_0$. Depending on the alternate hypothesis and significance level $\\alpha$, we reject $H_0$ if $t^*$ is in the blue areas of the **sampling distribution of sample statistic**:\n",
    "\n",
    "<img class=\"center-block\" src=\"https://sebastienplat.s3.amazonaws.com/21a0a7a855f51f6426dfbf6115b872161490032937519\"/>\n",
    "\n",
    "_Note: for two-tailed tests, we use $\\alpha/2$ for each tail and $2*t^*$ as the p-value. This ensures the total probability of extreme values is $\\alpha$._\n"
   ],
   "cell_type": "markdown",
   "metadata": {}
  }
 ]
}