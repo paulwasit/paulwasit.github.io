{
 "metadata": {
  "language_info": {
   "codemirror_mode": {
    "name": "ipython",
    "version": 3
   },
   "file_extension": ".py",
   "mimetype": "text/x-python",
   "name": "python",
   "nbconvert_exporter": "python",
   "pygments_lexer": "ipython3",
   "version": 3
  },
  "orig_nbformat": 2
 },
 "nbformat": 4,
 "nbformat_minor": 2,
 "cells": [
  {
   "source": [
    "# Main ML Models\n",
    "\n",
    "**Linear Models**\n",
    "\n",
    "Use planes to separate classes (each model uses different loss functions). Very good for sparse, high-dimensional data, but don't work well in no-linear situations.\n",
    "- Logistic Regression.\n",
    "- Support Vector Machines.\n",
    "\n",
    "Implementations include scikit-learn and wopal wabbit (designed to handle very large datasets).\n",
    "\n",
    "\n",
    "**Tree-based**\n",
    "\n",
    "Very powerful for tabular data, but not well-suited for linear dependencies because they require a lot of splits and can be inaccurate in near decision borders.\n",
    "- Decision Trees: use divide-and-conquer to recursively split the space into subspaces.\n",
    "- [Random Forests](https://www.datasciencecentral.com/profiles/blogs/random-forests-explained-intuitively).\n",
    "- [Gradient Boosting over Decision Trees](http://arogozhnikov.github.io/2016/06/24/gradient_boosting_explained.html).\n",
    "\n",
    "\n",
    "**Others**\n",
    "\n",
    "- [k-Nearest Neighbors](https://www.analyticsvidhya.com/blog/2018/03/introduction-k-neighbours-algorithm-clustering/).\n",
    "- Neural Networks\n",
    "\n",
    "\n",
    "**Overview**\n",
    "\n",
    "- Linear models split the space into two subspaces separated by an hyperplane.\n",
    "- Tree-based methods split the space into boxes and use constant predictions inside each box.\n",
    "- KNN make the assumption that objects close to one another are likely to have the same label and rely heavily on how to measure the distance between points.\n",
    "- Neural Network produce smooth non-linear decision boundaries.\n",
    "\n"
   ],
   "cell_type": "markdown",
   "metadata": {}
  },
  {
   "cell_type": "code",
   "execution_count": null,
   "metadata": {},
   "outputs": [],
   "source": []
  }
 ]
}