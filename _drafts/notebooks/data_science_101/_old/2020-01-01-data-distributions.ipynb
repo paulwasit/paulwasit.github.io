{
 "cells": [
  {
   "cell_type": "markdown",
   "metadata": {},
   "source": [
    "# Data Types"
   ]
  },
  {
   "cell_type": "markdown",
   "metadata": {},
   "source": [
    "We leverage several kinds of data to do statistical analysis:\n",
    "\n",
    "+ Categorical\n",
    "    + nominal: cannot be sorted (flavors of ice cream)\n",
    "    + ordinal: can be sorted; lack scale (survey responses)\n",
    "+ Continuous\n",
    "    + interval: lacks a \"zero\" point (temperature)\n",
    "    + ratio: true \"zero\" point (age, salary)"
   ]
  },
  {
   "cell_type": "markdown",
   "metadata": {},
   "source": [
    "A distribution shows the probable outcomes of a variable.\n",
    "+ **discrete**: probability of being exactly equal to some value. The sum of all probabilities is one. Its probability distribution is called the **Probability Mass Function of PMF**.\n",
    "+ **continuous**: probability of falling within any interval of values. The area under the probability curve is equal to one. Its probability distribution is called the **Probability Density Function or PDF**\n",
    "\n",
    "For both cases, the probability $P(X<=x)$ is given by the **Cumulative Distribution Function** or CDF."
   ]
  },
  {
   "cell_type": "markdown",
   "metadata": {},
   "source": [
    "___\n",
    "\n",
    "# Discrete Data"
   ]
  },
  {
   "cell_type": "markdown",
   "metadata": {},
   "source": [
    "### Uniform distribution"
   ]
  },
  {
   "cell_type": "markdown",
   "metadata": {},
   "source": [
    "Probabilities are **evenly distributed** across the sample space, ie each value has the same probability of occuring (example: roll of a fair dice)."
   ]
  },
  {
   "cell_type": "markdown",
   "metadata": {},
   "source": [
    "### Binomial distribution"
   ]
  },
  {
   "cell_type": "markdown",
   "metadata": {},
   "source": [
    "There are **two mutually exclusive outcomes**. Examples include heads vs tail, success vs failure, healthy vs sick. The associated experiments are called a **Bernoulli Trial** if the probability of success is constant.\n",
    "\n",
    "The probability of observing $k$ successes for $n$ independant Bernoulli trials with a probability of success $p$ is given by the PMF of the Binomial Distribution. The highest probability is for $k = n p$."
   ]
  },
  {
   "cell_type": "code",
   "execution_count": 10,
   "metadata": {},
   "outputs": [
    {
     "name": "stdout",
     "output_type": "stream",
     "text": [
      "24.2%\n"
     ]
    }
   ],
   "source": [
    "# example: probability of rolling a five three times out of 16 dice rolls\n",
    "from scipy.stats import binom\n",
    "print('{:.1%}'.format(binom.pmf(k=3, n=16, p=1/6)))"
   ]
  },
  {
   "cell_type": "markdown",
   "metadata": {},
   "source": [
    "For $n$ independant Bernoulli trials having a probability of success $p$, the probability of observing $k$ successes is:\n",
    "\n",
    "$$P(k)={n \\choose k} p^k (1 - p)^{n-k}$$\n",
    "\n",
    "Note: ${n \\choose k}$ is called the **Bernoulli coefficient**."
   ]
  },
  {
   "cell_type": "markdown",
   "metadata": {},
   "source": [
    "### Poisson distribution"
   ]
  },
  {
   "cell_type": "markdown",
   "metadata": {},
   "source": [
    "Very similar to the Binomial Distribution, but measures the number of times an event occurs **in an interval of time or space**. It assumes a constant average rate of occurence $\\lambda$.\n",
    "\n",
    "The probability of observing $k$ events in an interval is given by the PMF of the Poisson Distribution. The highest probability of the Poisson Distribution is for $k = \\lambda$."
   ]
  },
  {
   "cell_type": "code",
   "execution_count": 11,
   "metadata": {},
   "outputs": [
    {
     "name": "stdout",
     "output_type": "stream",
     "text": [
      "5.7%\n"
     ]
    }
   ],
   "source": [
    "# example: probability of having only four deliveries between 4PM and 5PM this friday when the average is 8\n",
    "from scipy.stats import poisson\n",
    "print('{:.1%}'.format(poisson.pmf(k=4, mu=8)))"
   ]
  },
  {
   "cell_type": "markdown",
   "metadata": {},
   "source": [
    "We can also calculate the probabilities of having fewer than $k$ successes with the **cumulative distribution function**."
   ]
  },
  {
   "cell_type": "code",
   "execution_count": 21,
   "metadata": {},
   "outputs": [
    {
     "name": "stdout",
     "output_type": "stream",
     "text": [
      "10.0%\n"
     ]
    }
   ],
   "source": [
    "# example: probability of having four deliveries or less between 4PM and 5PM this friday when the average is 8\n",
    "from scipy.stats import poisson\n",
    "print('{:.1%}'.format(poisson.cdf(k=4, mu=8)))"
   ]
  },
  {
   "cell_type": "markdown",
   "metadata": {},
   "source": [
    "We can also apply the same logic to smaller intervals if we can assume that events are equally distributed inside each interval. For instance, if $\\lambda_{minute} = \\lambda_{hour} / 60$"
   ]
  },
  {
   "cell_type": "code",
   "execution_count": 22,
   "metadata": {
    "scrolled": false
   },
   "outputs": [
    {
     "name": "stdout",
     "output_type": "stream",
     "text": [
      "51.3%\n"
     ]
    }
   ],
   "source": [
    "# example: probability of having zero deliveries between 4:00PM and 4:05PM this friday when the hourly average is 8\n",
    "from scipy.stats import poisson\n",
    "print('{:.1%}'.format(poisson.pmf(k=0, mu=8/(60/5))))"
   ]
  },
  {
   "cell_type": "markdown",
   "metadata": {},
   "source": [
    "The probability of observing $k$ events in an interval is:\n",
    "\n",
    "$$P(k \\text{ events in interval}) = \\frac{\\lambda^k e^{-\\lambda}}{k!}$$"
   ]
  },
  {
   "cell_type": "markdown",
   "metadata": {},
   "source": [
    "___\n",
    "\n",
    "#  Continuous Data"
   ]
  },
  {
   "cell_type": "markdown",
   "metadata": {},
   "source": [
    "Continuous data are typically associated with their:\n",
    "\n",
    "+ **Central Tendency**: average value a variable can take\n",
    "+ **Dispersion**: spread from the average"
   ]
  },
  {
   "cell_type": "markdown",
   "metadata": {},
   "source": [
    "### Median and IQR"
   ]
  },
  {
   "cell_type": "markdown",
   "metadata": {},
   "source": [
    "+ median: median value; insensitive to outliers\n",
    "+ range: maximum - minimum; extremely sensitive to outliers\n",
    "+ interquartile range (IQR): difference between the third and first quartile"
   ]
  },
  {
   "cell_type": "markdown",
   "metadata": {},
   "source": [
    "**Quartiles** divide a rank-ordered data set into four parts of equal size; each value has a 25% probability of falling into each quartile. The **Interquartile range (IQR)** is equal to Q3 minus Q1. This is why it is sometimes called the midspread or **middle 50%**. Q2 is the median.\n",
    "    \n",
    "**Box-plots** are a good way to summarize a distribution using its quartiles:\n",
    "\n",
    "+ IQR with the median inside\n",
    "+ whiskers (Tukey boxplot): values within 1.5 IQR of Q1 and Q3\n",
    "+ remaining outliers"
   ]
  },
  {
   "cell_type": "markdown",
   "metadata": {},
   "source": [
    "### Mean and Standard Deviation"
   ]
  },
  {
   "cell_type": "markdown",
   "metadata": {},
   "source": [
    "+ mean: calculated average; sensitive to outliers\n",
    "+ variance: average squared distance from the mean; emphasis on higher distances\n",
    "+ standard deviation: square root of variance; same unit as the measure itself\n",
    "\n",
    "\n",
    "_Note: sample variance is calculated with $n-1$ where $n$ is the sample size, in what is called the **Bessel's correction**. It reduces the bias due to finite sample size: you need to account for the variance of sample mean minus population mean. More details [here](https://en.wikipedia.org/wiki/Bessel%27s_correction)._"
   ]
  },
  {
   "cell_type": "markdown",
   "metadata": {},
   "source": [
    "### Normal Distribution"
   ]
  },
  {
   "cell_type": "markdown",
   "metadata": {},
   "source": [
    "Many real-life variables roughly follow the Gaussian or **Normal Distribution**: height, weight, test scores, etc. We can use it to model their behavior.\n",
    "\n",
    "A normal distribution:\n",
    "+ is centered around its mean\n",
    "+ has 2/3 of all its values inside +/- 1SD from the mean\n",
    "+ has 95% of all its values inside +/- 2SD from the mean\n",
    "+ had 99.5% of all its values inside +/- 3SD from the mean\n",
    "\n",
    "_Note1: the Standard Normal Distribution has a mean of 0 and and a standard deviation of 1._\n",
    "_Note2: we can convert a normal distribution to the **standard normal distribution** by using its z-scores: $z = (x - \\mu) / \\sigma$._"
   ]
  },
  {
   "cell_type": "code",
   "execution_count": 25,
   "metadata": {},
   "outputs": [
    {
     "name": "stdout",
     "output_type": "stream",
     "text": [
      "75.8%\n"
     ]
    }
   ],
   "source": [
    "# example: probability of having the value of a standard normal distribution below z\n",
    "from scipy.stats import norm\n",
    "print('{:.1%}'.format(norm.cdf(x=0.7)))"
   ]
  },
  {
   "cell_type": "code",
   "execution_count": 29,
   "metadata": {},
   "outputs": [
    {
     "name": "stdout",
     "output_type": "stream",
     "text": [
      "1.64\n"
     ]
    }
   ],
   "source": [
    "# example: z-score of a given probability\n",
    "from scipy.stats import norm\n",
    "print('{:.3}'.format(norm.ppf(q=0.95)))"
   ]
  },
  {
   "cell_type": "code",
   "execution_count": 30,
   "metadata": {},
   "outputs": [
    {
     "name": "stdout",
     "output_type": "stream",
     "text": [
      "95.7%\n"
     ]
    }
   ],
   "source": [
    "# example: percentile of a student for a normal distribution of mean 75 and sd 7\n",
    "from scipy.stats import norm\n",
    "print('{:.1%}'.format(norm.cdf(x=87, loc=75, scale=7)))"
   ]
  }
 ],
 "metadata": {
  "kernelspec": {
   "display_name": "Python 3",
   "language": "python",
   "name": "python3"
  },
  "language_info": {
   "codemirror_mode": {
    "name": "ipython",
    "version": 3
   },
   "file_extension": ".py",
   "mimetype": "text/x-python",
   "name": "python",
   "nbconvert_exporter": "python",
   "pygments_lexer": "ipython3",
   "version": "3.7.4"
  },
  "toc": {
   "base_numbering": 1,
   "nav_menu": {},
   "number_sections": false,
   "sideBar": true,
   "skip_h1_title": false,
   "title_cell": "Table of Contents",
   "title_sidebar": "Contents",
   "toc_cell": false,
   "toc_position": {
    "height": "925px",
    "left": "1655px",
    "top": "110px",
    "width": "285px"
   },
   "toc_section_display": true,
   "toc_window_display": true
  }
 },
 "nbformat": 4,
 "nbformat_minor": 2
}
