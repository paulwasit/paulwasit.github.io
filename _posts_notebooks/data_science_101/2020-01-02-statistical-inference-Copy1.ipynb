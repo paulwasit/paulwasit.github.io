{
 "cells": [
  {
   "cell_type": "markdown",
   "metadata": {},
   "source": [
    "# Introduction"
   ]
  },
  {
   "cell_type": "markdown",
   "metadata": {},
   "source": [
    "> The goal of statistical inference is to make **generalizations about the population** when **only a sample is available**."
   ]
  },
  {
   "cell_type": "markdown",
   "metadata": {},
   "source": [
    "We usually do not have access to an entire **population**, but only to a subset of its members that time and resources allow us to measure. We use this **sample data** to draw **probabilistic conclusions** about the population; this process is called [**statistical inference**](https://www.encyclopediaofmath.org/index.php/Statistical_inference)."
   ]
  },
  {
   "cell_type": "markdown",
   "metadata": {},
   "source": [
    "The population variable can take many values that are more or less likely to happen. This **probability distribution** has a numerical feature of interest called a **parameter**. The data we collect is **randomly generated** from this probability distribution. \n",
    "\n",
    "We draw our conclusions about the parameter from the sample **statistic**. Three important limitations:\n",
    "+ Because a sample is only part of the population, the numerical value of the statistic will not be the exact value of the parameter.\n",
    "+ The observed value of the statistic depends on the particular sample selected.\n",
    "+ Some variability in the values of a statistic, over different samples, is unavoidable."
   ]
  },
  {
   "cell_type": "markdown",
   "metadata": {},
   "source": [
    "___\n"
   ]
  },
  {
   "cell_type": "markdown",
   "metadata": {},
   "source": [
    "# Sampling"
   ]
  },
  {
   "cell_type": "markdown",
   "metadata": {},
   "source": [
    "### Methods"
   ]
  },
  {
   "cell_type": "markdown",
   "metadata": {},
   "source": [
    "A **reasonably sized random sample** (around 30 members) will almost always reflect the population. \n",
    "\n",
    "There are several ways to sample a population:\n",
    "\n",
    "+ [**Simple random sample**](https://en.wikipedia.org/wiki/Simple_random_sample) – each subject in the population has an equal chance of being selected. Some demographics might be missed.\n",
    "+ [**Stratified random sample**](https://en.wikipedia.org/wiki/Stratified_sampling) – the population is divided into groups based on some characteristic (e.g. sex, geographic region). Then simple random sampling is done for each group based on its size in the actual population.\n",
    "+ [**Cluster sample**](https://en.wikipedia.org/wiki/Cluster_sampling) – a random cluster of subjects is selected from the population (e.g. certain neighborhoods instead of the entire city)."
   ]
  },
  {
   "cell_type": "markdown",
   "metadata": {},
   "source": [
    "### Representativity"
   ]
  },
  {
   "cell_type": "markdown",
   "metadata": {},
   "source": [
    "Sampling must be probabilistic in order to make inference about the whole population. Otherwise, the inference can only be made about the sample itself.\n",
    "\n",
    "There are several forms of [**sampling bias**](https://en.wikipedia.org/wiki/Sampling_bias):\n",
    "+ selection bias: not fully representative of the entire population\n",
    "    + people who answer surveys\n",
    "    + people from specific segments of the population (polling about health at fruit stand)\n",
    "+ survivorship bias: population improving over time by having lesser members leave due to death\n",
    "    + head injuries with metal helmets increasing vs cloth caps because less lethal\n",
    "    + damage in WWII planes: not uniformally distributed in planes that came back, but only in non-critical areas\n",
    "    \n",
    "_Note: other [**criteria**](https://en.wikipedia.org/wiki/Selection_bias) can also impact the representativity of our sample._"
   ]
  },
  {
   "cell_type": "markdown",
   "metadata": {},
   "source": [
    "\n",
    "___\n"
   ]
  },
  {
   "cell_type": "markdown",
   "metadata": {},
   "source": [
    "# Inference Problems"
   ]
  },
  {
   "cell_type": "markdown",
   "metadata": {},
   "source": [
    "### Estimation of parameter\n",
    "\n",
    "The estimation can either be:\n",
    "+ **point estimate**: a particular value that best approximates some parameter.\n",
    "+ **interval estimate**: interval of plausible values for the parameter.\n",
    "\n",
    "This can also include prediction intervals for future observations."
   ]
  },
  {
   "cell_type": "markdown",
   "metadata": {},
   "source": [
    "### Hypothesis Testing\n",
    "\n",
    "A test of hypotheses provides a yes/no answer as to whether the parameter lies in a specified region of values."
   ]
  },
  {
   "cell_type": "markdown",
   "metadata": {},
   "source": [
    "### Limitations of Statistical Inference"
   ]
  },
  {
   "cell_type": "markdown",
   "metadata": {},
   "source": [
    "Because statistical inferences are based on a sample, they will sometimes be in error. The actual value of the parameter is unknown, so a test of hypotheses may yield the **wrong yes/no answer** and the interval of plausible values **may not contain the true value** of the parameter.\n",
    "\n",
    "_Note: Large samples approximate the population distribution more closely, so we can be more confident in their conclusion._"
   ]
  },
  {
   "cell_type": "markdown",
   "metadata": {},
   "source": [
    "\n",
    "___\n"
   ]
  },
  {
   "cell_type": "markdown",
   "metadata": {},
   "source": [
    "# Frequentist  vs Bayesian Paradigms"
   ]
  },
  {
   "cell_type": "markdown",
   "metadata": {},
   "source": [
    "Both paradigms are based on the likelihood but their frameworks are entirely different."
   ]
  },
  {
   "cell_type": "markdown",
   "metadata": {},
   "source": [
    "### Frequentist Paradigm"
   ]
  },
  {
   "cell_type": "markdown",
   "metadata": {},
   "source": [
    "In the frequentist paradigm, the **parameter** is **set but unknown**. \n",
    "\n",
    "Due to the random nature of sampling, some samples are not representative of the population. It means that a small proportion of samples, typically noted $\\alpha$, will produce incorrect inferences. This probability of errors can be controlled to build **(1 - $\\alpha$) Percent Confidence Intervals**. \n",
    "\n",
    "This means that for (1 - $\\alpha$) percents of all samples, the calculated interval will actually include the parameter value.\n",
    "\n",
    "_Note: this is not a probability. The interval either includes the parameter value or it doesn't._"
   ]
  },
  {
   "cell_type": "markdown",
   "metadata": {},
   "source": [
    "### Bayesian Paradigm"
   ]
  },
  {
   "cell_type": "markdown",
   "metadata": {},
   "source": [
    "In the Bayesian paradigm, the **parameter** is a **random variable**. \n",
    "\n",
    "It is assigned a **prior distribution** based on already available (prior) data. This distribution is updated by the likelihood of the sample values to obtain its **posterior distribution**. From it, both **point estimate** and **region of highest posterior density** (or credible intervals) can be derived."
   ]
  },
  {
   "cell_type": "markdown",
   "metadata": {},
   "source": [
    "### Considerations"
   ]
  },
  {
   "cell_type": "markdown",
   "metadata": {},
   "source": [
    "A rigorous approach to frequentist statistics assume that the conditions of the experiment are well-defined even before any dat a is actually collected. \n",
    "\n",
    "Baysesian statistics, on the other hand, make no such assumptions. They are especially useful when new data is constently collected: our beliefs are constantly updated, older data being used as prior to the new data that comes in. "
   ]
  },
  {
   "cell_type": "markdown",
   "metadata": {},
   "source": [
    "___\n"
   ]
  },
  {
   "cell_type": "markdown",
   "metadata": {},
   "source": [
    "# Parameter estimation"
   ]
  },
  {
   "cell_type": "markdown",
   "metadata": {},
   "source": [
    "The goal of [parameter estimation](https://en.wikipedia.org/wiki/Point_estimation) is to find the best approximation of the population parameter given our sample data; there are many possibilities. We'll focus on the following two: \n",
    "\n",
    "+ the Maximum Likelihood Estimate, or MLE, in frequentist inference.\n",
    "+ the Maximum A Posteriori, or MAP, in Bayesian inference."
   ]
  },
  {
   "cell_type": "markdown",
   "metadata": {},
   "source": [
    "### Maximum Likelihood Estimate"
   ]
  },
  {
   "cell_type": "markdown",
   "metadata": {},
   "source": [
    "The [**Maximum Likelihood Estimator**](https://en.wikipedia.org/wiki/Maximum_likelihood_estimation) is the value of the parameter space (i.e. the set of all values the parameter can take) that is the **most likely** to have **generated our sample**. As the sample size increases, the MLE converges towards the true value of the population parameter.\n",
    "\n",
    "+ for discrete distributions, the MLE of the probability of success is equal to successes / total trials.\n",
    "+ for continuous distributions:\n",
    "    + the MLE of the population mean is the sample mean. \n",
    "    + the MLE of the population variance is the sample variance.\n",
    "    \n",
    "    \n",
    "_Note1: the sample variance needs to be [slightly adjusted](https://en.wikipedia.org/wiki/Bessel%27s_correction) to become [unbiased](https://dawenl.github.io/files/mle_biased.pdf)._\n",
    "\n",
    "_Note2: in more complex problems, the MLE can only be found via numerical optimization._"
   ]
  },
  {
   "cell_type": "markdown",
   "metadata": {},
   "source": [
    "### Maximum A Posteriori"
   ]
  },
  {
   "cell_type": "markdown",
   "metadata": {},
   "source": [
    "The Maximum A Posteriori is [very similar to the MLE](https://wiseodd.github.io/techblog/2017/01/01/mle-vs-map/), but for the posterior distribution of the population parameter. It applies weigth coming from the prior to the likelihood of the new sample data.\n",
    "\n",
    "_Note1: for constant priors, the MAP is equal to the MLE._"
   ]
  },
  {
   "cell_type": "markdown",
   "metadata": {},
   "source": [
    "___\n"
   ]
  },
  {
   "cell_type": "markdown",
   "metadata": {},
   "source": [
    "# Hypothesis Testing"
   ]
  },
  {
   "cell_type": "markdown",
   "metadata": {},
   "source": [
    "### Experimentation Design"
   ]
  },
  {
   "cell_type": "markdown",
   "metadata": {},
   "source": [
    "Hypothesis testing is used to **make decisions about a population** using sample data. \n",
    "\n",
    "+ We start with a **null hypothesis** that we we asssume to be true.\n",
    "+ We run an **experiment** to test this hypothesis.\n",
    "+ Based on the experimental results, we can either **reject** or **fail to reject** this null hypothesis. \n",
    "+ If we reject it, we say that the data supports another, mutually exclusive, **alternate hypothesis**."
   ]
  },
  {
   "cell_type": "markdown",
   "metadata": {},
   "source": [
    "### Null and Alternate Hypothesis"
   ]
  },
  {
   "cell_type": "markdown",
   "metadata": {},
   "source": [
    "Some example of **null hypothesis**: \n",
    "+ the average human weight is 60kg: average weight = 60kg\n",
    "\n",
    "Given some sample statistic $\\mu$ and the population parameter $\\mu_0$, there are three possible **alternate hypotheses**:\n",
    "\n",
    "| Left-tailed  | Two-sided     | Right-tailed    |\n",
    "|-----------------:|:-----------------:|:-------------------:|\n",
    "| $\\mu \\lt \\mu_0$ | $\\mu \\neq \\mu_0$   | $\\mu \\gt \\mu_0$     |\n",
    "\n",
    "\n",
    "<br>\n",
    "\n",
    "The experiment compares the sample statistic to the $H_0$ parameter. We **reject the null hypothesis** if the probability of observing the experimental results is **very small** under its assumption. The cutoff probability is called the **level of significance** and is typically 5%."
   ]
  },
  {
   "cell_type": "markdown",
   "metadata": {},
   "source": [
    "### Types of Errors"
   ]
  },
  {
   "cell_type": "markdown",
   "metadata": {},
   "source": [
    "There are four possible outcomes for our hypothesis testing, with two [**types of errors**](https://en.wikipedia.org/wiki/Type_I_and_type_II_errors):\n",
    "\n",
    "| Decision          | $$H_0$$ is True                      | $$H_0$$ is False                     |\n",
    "|-------------------:|:---------------------------------:|:---------------------------------:|\n",
    "| **Reject H0** | **Type I error**: False Positive   | Correct inference: True Positive |\n",
    "| **Fail to reject H0** | Correct inference: True Negative | **Type II error**: False Negative |\n",
    "\n",
    "<br>\n",
    "\n",
    "The probabilities of making these two kinds of errors are related:\n",
    "+ Decreasing the Type I error increased the probability of the Type II error.\n",
    "+ If you want both to decrease, you have to increase the sample size.\n",
    "\n",
    "\n",
    "<br>\n",
    "\n",
    "When we **reject** the null hypothesis, there is still a very small likelihood that our sample belongs to the population but with extreme values: This probably is called the **Type I error** and is equal to the **significance level** $\\alpha$. It falsely states that the alternate hypothesis is true, hence its name of **False Positive**.\n",
    "  \n",
    "<br>\n",
    "\n",
    "The **Type II error** $\\beta$ is the probability of incorrectly failing to reject a false $H_0$: **False Negative**."
   ]
  },
  {
   "cell_type": "markdown",
   "metadata": {},
   "source": [
    "### Statistical Power"
   ]
  },
  {
   "cell_type": "markdown",
   "metadata": {},
   "source": [
    "[**Power**](https://en.wikipedia.org/wiki/Statistical_power) is the probability of correctly rejecting a false $H_0$. It is equal to $1 - \\beta$. It is also called the **sensitivity**. High power means less chances of having false negatives.\n",
    "\n",
    "_Note: A test with more statistical power needs less extreme values of the test statistic to be statistically significant._\n",
    "\n",
    "Two key things impact statistical power:\n",
    "+ the effect size: a large difference between groups is easier to detect\n",
    "+ the sample size: it directly impacts the test statistic and the p-value\n",
    "\n",
    "Given the variance of data $\\sigma$ and the minimum difference to detect $\\delta$,  a typical formula to asses sample size is:\n",
    "\n",
    "$$N = 16 \\times \\frac{\\sigma^2}{\\delta^2}$$"
   ]
  },
  {
   "cell_type": "markdown",
   "metadata": {},
   "source": [
    "The caveat is that you need to collect data for the sample of size $N$ calculated above before being able to draw conclusions."
   ]
  },
  {
   "cell_type": "markdown",
   "metadata": {},
   "source": [
    "___\n",
    "\n",
    "# Central Limit Theorem"
   ]
  },
  {
   "cell_type": "markdown",
   "metadata": {},
   "source": [
    "### Definition"
   ]
  },
  {
   "cell_type": "markdown",
   "metadata": {},
   "source": [
    "A group of samples having the same size $N$ will have mean values **normally distributed** around the population mean $\\mu$, regardless of the original distribution.\n",
    "\n",
    "This normal distribution has:\n",
    "+ the **same mean** $\\mu$ as the population\n",
    "+ a standard deviation called **standard error** equal to $\\sigma / \\sqrt(n)$, where $\\sigma$ is the SD of the population"
   ]
  },
  {
   "cell_type": "markdown",
   "metadata": {},
   "source": [
    "### Confidence Intervals"
   ]
  },
  {
   "cell_type": "markdown",
   "metadata": {},
   "source": [
    "Because the sampling distribution of sample statistic is **normally distributed**, 95% of all sample means fall within two standard errors of the actual population mean. In other words: we can say with a 95% confidence level that the **population parameter** lies within a confidence interval of plus-or-minus two standard errors of the **sample statistic**."
   ]
  },
  {
   "cell_type": "markdown",
   "metadata": {},
   "source": [
    "### Hypothesis Testing"
   ]
  },
  {
   "cell_type": "markdown",
   "metadata": {},
   "source": [
    "Hypothesis testing also leverages the **Central Limit Theorem**. If we assume that the population parameter holds a specific value under $H_0$, we can use the CLT to measure the probability that our sample produces such a statistic or one more extreme under $H_0$. This probability is called the [p-value](https://en.wikipedia.org/wiki/P-value).\n",
    "\n",
    "A low p-value means that it is unlikely that the $H_0$ probability distribution actually describe the population: we reject the null hypothesis.\n",
    "\n",
    "+ $P\\leq\\alpha$: we **reject** the null hypothesis. The observed effect is **statistically significant**\n",
    "+ $P\\gt\\alpha$: we **fail to reject** the null hypothesis. The observed effect is **not statistically significant**"
   ]
  },
  {
   "cell_type": "markdown",
   "metadata": {},
   "source": [
    "The p-value being smaller than $\\alpha$ would mean that the sample statistic under $H_0$ is in the blue areas of the **sampling distribution of sample statistic**, depending on the alternate hypothesis:"
   ]
  },
  {
   "cell_type": "markdown",
   "metadata": {},
   "source": [
    "<img class=\"center-block\" src=\"https://sebastienplat.s3.amazonaws.com/21a0a7a855f51f6426dfbf6115b872161490032937519\"/>"
   ]
  },
  {
   "cell_type": "markdown",
   "metadata": {},
   "source": [
    "_Note: for two-tailed tests, we use $\\alpha/2$ for each tail. This ensures the total probability of extreme values is $\\alpha$._"
   ]
  },
  {
   "cell_type": "markdown",
   "metadata": {},
   "source": [
    "### Z-Scores"
   ]
  },
  {
   "cell_type": "markdown",
   "metadata": {},
   "source": [
    "We can use two factors to assess the probability of observing the experimental results under the null hypothesis:\n",
    "+ The [**Z-score**](https://en.wikipedia.org/wiki/Standard_score) represents the number of standard deviations an observation is from the mean.\n",
    "+ The sampling distribution of sample statistic is centered around the population parameter and has a standard error linked to the population variance. \n",
    "\n",
    "It means that we can calculate the z-score of our sample statistic to calculate its p-value."
   ]
  },
  {
   "cell_type": "markdown",
   "metadata": {},
   "source": [
    "___\n"
   ]
  },
  {
   "cell_type": "markdown",
   "metadata": {},
   "source": [
    "# Further Reads"
   ]
  },
  {
   "cell_type": "markdown",
   "metadata": {},
   "source": [
    "A few interesting Wikipedia articles:\n",
    "\n",
    "Generalities\n",
    "+ https://en.wikipedia.org/wiki/Sampling_distribution\n",
    "+ https://en.wikipedia.org/wiki/Statistical_hypothesis_testing \n",
    "\n",
    "Probabilities\n",
    "+ https://en.wikipedia.org/wiki/Probability_interpretations\n",
    "+ https://en.wikipedia.org/wiki/Frequentist_probability\n",
    "+ https://en.wikipedia.org/wiki/Bayesian_probability\n",
    "\n",
    "Inference paradigms:\n",
    "+ https://en.wikipedia.org/wiki/Frequentist_inference\n",
    "+ https://en.wikipedia.org/wiki/Bayesian_inference\n",
    "+ https://en.wikipedia.org/wiki/Lindley%27s_paradox\n",
    "+ https://www.stat.berkeley.edu/~stark/Preprints/611.pdf"
   ]
  }
 ],
 "metadata": {
  "kernelspec": {
   "display_name": "Python 3",
   "language": "python",
   "name": "python3"
  },
  "language_info": {
   "codemirror_mode": {
    "name": "ipython",
    "version": 3
   },
   "file_extension": ".py",
   "mimetype": "text/x-python",
   "name": "python",
   "nbconvert_exporter": "python",
   "pygments_lexer": "ipython3",
   "version": "3.8.0"
  },
  "toc": {
   "base_numbering": 1,
   "nav_menu": {},
   "number_sections": false,
   "sideBar": true,
   "skip_h1_title": false,
   "title_cell": "Table of Contents",
   "title_sidebar": "Contents",
   "toc_cell": false,
   "toc_position": {
    "height": "925px",
    "left": "1655px",
    "top": "110px",
    "width": "291.627px"
   },
   "toc_section_display": true,
   "toc_window_display": true
  }
 },
 "nbformat": 4,
 "nbformat_minor": 2
}
